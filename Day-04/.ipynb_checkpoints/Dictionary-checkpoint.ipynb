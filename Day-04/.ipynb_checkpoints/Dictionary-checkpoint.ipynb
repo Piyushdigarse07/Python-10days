{
 "cells": [
  {
   "cell_type": "code",
   "execution_count": null,
   "id": "331e878f-bdaf-4d64-8590-c88a821dd34c",
   "metadata": {},
   "outputs": [],
   "source": [
    "#dictionary\n",
    "# creted using {}\n",
    "#use key value pair, value and pairs are seprated by :\n",
    "#key should be unique and it's immutable\n",
    "\n"
   ]
  },
  {
   "cell_type": "code",
   "execution_count": 1,
   "id": "477d0118-446e-4e89-b9a9-941fef16ce7f",
   "metadata": {},
   "outputs": [
    {
     "name": "stdout",
     "output_type": "stream",
     "text": [
      "{'piyush': 24, 'shanu': 23, 'shashank': 21}\n"
     ]
    }
   ],
   "source": [
    "d1={'piyush':24,'shanu':23,'shashank':21}\n",
    "print(d1)"
   ]
  },
  {
   "cell_type": "code",
   "execution_count": 5,
   "id": "e601ec23-d028-44f1-a2a2-f02ed07aef91",
   "metadata": {},
   "outputs": [
    {
     "name": "stdout",
     "output_type": "stream",
     "text": [
      "{'piyush': 34, 'shanu': 23, 'shashank': 21, 'age': 34, 'height': 22}\n"
     ]
    }
   ],
   "source": [
    "d2={'piyush':34,'height':22}\n",
    "d1.update(d2)    #.update()- is used to merge two dictionaries\n",
    "print(d1)"
   ]
  },
  {
   "cell_type": "code",
   "execution_count": 7,
   "id": "2a1b404f-bd42-42af-bde1-482926905ff5",
   "metadata": {},
   "outputs": [
    {
     "name": "stdout",
     "output_type": "stream",
     "text": [
      "{'piyush': 34, 'shanu': 23, 'shashank': 21, 'age': 34, 'height': 22}\n"
     ]
    }
   ],
   "source": [
    "dict= {**d1,**d2}            #** method- used to merge 2 dictionaries\n",
    "print(dict)                # ** oprends used to unpack the key value pairs"
   ]
  },
  {
   "cell_type": "code",
   "execution_count": 9,
   "id": "a5fcbfb5-1696-49aa-84e6-03a3ed613335",
   "metadata": {},
   "outputs": [
    {
     "name": "stdout",
     "output_type": "stream",
     "text": [
      "{'piyush': 34, 'shanu': 23, 'shashank': 21, 'age': 34, 'height': 22}\n"
     ]
    }
   ],
   "source": [
    "md= d1 | d2\n",
    "print(md)"
   ]
  },
  {
   "cell_type": "code",
   "execution_count": null,
   "id": "00156f36-5006-418a-ab64-a2e95e08de44",
   "metadata": {},
   "outputs": [],
   "source": []
  }
 ],
 "metadata": {
  "kernelspec": {
   "display_name": "Python 3 (ipykernel)",
   "language": "python",
   "name": "python3"
  },
  "language_info": {
   "codemirror_mode": {
    "name": "ipython",
    "version": 3
   },
   "file_extension": ".py",
   "mimetype": "text/x-python",
   "name": "python",
   "nbconvert_exporter": "python",
   "pygments_lexer": "ipython3",
   "version": "3.11.9"
  }
 },
 "nbformat": 4,
 "nbformat_minor": 5
}
