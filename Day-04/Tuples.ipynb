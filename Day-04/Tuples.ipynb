{
 "cells": [
  {
   "cell_type": "code",
   "execution_count": null,
   "id": "dde6968c-a19d-43d0-ae21-9dce37ad025c",
   "metadata": {},
   "outputs": [],
   "source": [
    "#tuples -\n",
    "# it is ordered\n",
    "#it is immutable and allows duplicates value\n",
    "#tuple element can be of different data types\n",
    "#elements can be accessed using positive or negative indexs.\n"
   ]
  },
  {
   "cell_type": "code",
   "execution_count": 3,
   "id": "e8009d46-0290-46eb-a6d0-b64e8f8095e5",
   "metadata": {},
   "outputs": [
    {
     "name": "stdout",
     "output_type": "stream",
     "text": [
      "('python', 25, 34, 'game')\n",
      "<class 'tuple'>\n"
     ]
    }
   ],
   "source": [
    "t1=('python',25,34,'game')\n",
    "print(t1)\n",
    "print(type(t1))"
   ]
  },
  {
   "cell_type": "code",
   "execution_count": 4,
   "id": "76eb6899-c56b-4dad-a4ae-884922141aff",
   "metadata": {},
   "outputs": [
    {
     "name": "stdout",
     "output_type": "stream",
     "text": [
      "1\n"
     ]
    }
   ],
   "source": [
    "print(t1.count(25))#to find the number of occurances"
   ]
  },
  {
   "cell_type": "code",
   "execution_count": 5,
   "id": "cce69056-e55a-4635-99c9-364627a2a2a1",
   "metadata": {},
   "outputs": [
    {
     "name": "stdout",
     "output_type": "stream",
     "text": [
      "3\n"
     ]
    }
   ],
   "source": [
    "print(t1.index('game'))"
   ]
  },
  {
   "cell_type": "code",
   "execution_count": 6,
   "id": "fd736f19-b5cd-48fb-ba21-bb296539da87",
   "metadata": {},
   "outputs": [
    {
     "name": "stdout",
     "output_type": "stream",
     "text": [
      "90\n",
      "6\n"
     ]
    }
   ],
   "source": [
    "#max and min method to find maximum and minimum\n",
    "t2=(23,45,6,73,90)\n",
    "print(max(t2))\n",
    "print(min(t2))"
   ]
  },
  {
   "cell_type": "code",
   "execution_count": null,
   "id": "e2d16f12-04cf-4854-8cfa-5fe30b636694",
   "metadata": {},
   "outputs": [],
   "source": [
    "#elements can't be modified in tuples"
   ]
  },
  {
   "cell_type": "code",
   "execution_count": 8,
   "id": "f3536c24-12cf-4401-b967-a1991050382f",
   "metadata": {},
   "outputs": [
    {
     "name": "stdout",
     "output_type": "stream",
     "text": [
      "(90, 73, 6, 45, 23)\n"
     ]
    }
   ],
   "source": [
    "print(t2[::-1])"
   ]
  },
  {
   "cell_type": "code",
   "execution_count": null,
   "id": "ffdc520c-0d88-4872-b25d-2f07ef65fccf",
   "metadata": {},
   "outputs": [],
   "source": []
  },
  {
   "cell_type": "code",
   "execution_count": null,
   "id": "d4eaacd3-02fb-4fe2-b1bc-767f24c54f18",
   "metadata": {},
   "outputs": [],
   "source": []
  },
  {
   "cell_type": "code",
   "execution_count": null,
   "id": "9b99ffcd-f463-41da-8ed3-55fb32593b58",
   "metadata": {},
   "outputs": [],
   "source": []
  },
  {
   "cell_type": "code",
   "execution_count": null,
   "id": "8772b5c4-811c-4151-b55e-8233610608e8",
   "metadata": {},
   "outputs": [],
   "source": []
  }
 ],
 "metadata": {
  "kernelspec": {
   "display_name": "Python 3 (ipykernel)",
   "language": "python",
   "name": "python3"
  },
  "language_info": {
   "codemirror_mode": {
    "name": "ipython",
    "version": 3
   },
   "file_extension": ".py",
   "mimetype": "text/x-python",
   "name": "python",
   "nbconvert_exporter": "python",
   "pygments_lexer": "ipython3",
   "version": "3.11.9"
  }
 },
 "nbformat": 4,
 "nbformat_minor": 5
}
