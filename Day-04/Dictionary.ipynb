{
 "cells": [
  {
   "cell_type": "code",
   "execution_count": null,
   "id": "331e878f-bdaf-4d64-8590-c88a821dd34c",
   "metadata": {},
   "outputs": [],
   "source": [
    "#dictionary\n",
    "# creted using {}\n",
    "#use key value pair, value and pairs are seprated by :\n",
    "#key should be unique and it's immutable\n",
    "\n"
   ]
  },
  {
   "cell_type": "code",
   "execution_count": 1,
   "id": "477d0118-446e-4e89-b9a9-941fef16ce7f",
   "metadata": {},
   "outputs": [
    {
     "name": "stdout",
     "output_type": "stream",
     "text": [
      "{'piyush': 24, 'shanu': 23, 'shashank': 21}\n"
     ]
    }
   ],
   "source": [
    "d1={'piyush':24,'shanu':23,'shashank':21}\n",
    "print(d1)"
   ]
  },
  {
   "cell_type": "code",
   "execution_count": 5,
   "id": "e601ec23-d028-44f1-a2a2-f02ed07aef91",
   "metadata": {},
   "outputs": [
    {
     "name": "stdout",
     "output_type": "stream",
     "text": [
      "{'piyush': 34, 'shanu': 23, 'shashank': 21, 'age': 34, 'height': 22}\n"
     ]
    }
   ],
   "source": [
    "d2={'piyush':34,'height':22}\n",
    "d1.update(d2)    #.update()- is used to merge two dictionaries\n",
    "print(d1)"
   ]
  },
  {
   "cell_type": "code",
   "execution_count": 7,
   "id": "2a1b404f-bd42-42af-bde1-482926905ff5",
   "metadata": {},
   "outputs": [
    {
     "name": "stdout",
     "output_type": "stream",
     "text": [
      "{'piyush': 34, 'shanu': 23, 'shashank': 21, 'age': 34, 'height': 22}\n"
     ]
    }
   ],
   "source": [
    "dict= {**d1,**d2}            #** method- used to merge 2 dictionaries\n",
    "print(dict)                # ** oprends used to unpack the key value pairs"
   ]
  },
  {
   "cell_type": "code",
   "execution_count": 9,
   "id": "a5fcbfb5-1696-49aa-84e6-03a3ed613335",
   "metadata": {},
   "outputs": [
    {
     "name": "stdout",
     "output_type": "stream",
     "text": [
      "{'piyush': 34, 'shanu': 23, 'shashank': 21, 'age': 34, 'height': 22}\n"
     ]
    }
   ],
   "source": [
    "md= d1 | d2\n",
    "print(md)"
   ]
  },
  {
   "cell_type": "code",
   "execution_count": null,
   "id": "00156f36-5006-418a-ab64-a2e95e08de44",
   "metadata": {},
   "outputs": [],
   "source": [
    "#methods to remove ditctionry\n",
    "#pop(key)\n",
    "#del\n",
    "#clear()"
   ]
  },
  {
   "cell_type": "code",
   "execution_count": null,
   "id": "85e11891-b33d-4d77-b853-2b38e2d18306",
   "metadata": {},
   "outputs": [],
   "source": []
  },
  {
   "cell_type": "code",
   "execution_count": null,
   "id": "cd446db5-eb5b-442a-8853-db44d5bbb137",
   "metadata": {},
   "outputs": [],
   "source": [
    "#iterate over dictionary\n",
    "#items- returns key and value pair\n",
    "#key -returns keys as sequence"
   ]
  },
  {
   "cell_type": "code",
   "execution_count": 13,
   "id": "fb275d80-aa60-4453-94de-5f4e111e43e8",
   "metadata": {},
   "outputs": [
    {
     "name": "stdout",
     "output_type": "stream",
     "text": [
      "{'piyush': 34, 'shanu': 23, 'shashank': 21, 'age': 34, 'height': 22}\n",
      "{'piyush': 34, 'shanu': 23, 'shashank': 21, 'age': 34, 'height': 22}\n",
      "{'piyush': 34, 'shanu': 23, 'shashank': 21, 'age': 34, 'height': 22}\n",
      "{'piyush': 34, 'shanu': 23, 'shashank': 21, 'age': 34, 'height': 22}\n",
      "{'piyush': 34, 'shanu': 23, 'shashank': 21, 'age': 34, 'height': 22}\n"
     ]
    }
   ],
   "source": [
    "for x in d1:\n",
    "    print(d1) "
   ]
  },
  {
   "cell_type": "code",
   "execution_count": 20,
   "id": "6e63f7cf-6d23-424c-a4dc-f43bc911205e",
   "metadata": {},
   "outputs": [
    {
     "name": "stdout",
     "output_type": "stream",
     "text": [
      "10\n",
      "20\n",
      "30\n",
      "40\n",
      "50\n"
     ]
    }
   ],
   "source": [
    "d10={'1':10,'2':20,'3':30,'4':40,'5':50}\n",
    "for x in d10:     # to iterate over values\n",
    "    print(d10[x])"
   ]
  },
  {
   "cell_type": "code",
   "execution_count": 21,
   "id": "c4f57921-e6a2-4361-a867-790ea747122d",
   "metadata": {},
   "outputs": [
    {
     "name": "stdout",
     "output_type": "stream",
     "text": [
      "10\n",
      "20\n",
      "30\n",
      "40\n",
      "50\n"
     ]
    }
   ],
   "source": [
    "for x in d10.values():\n",
    "    print(x)             # .values to iteartes over values in dictionary"
   ]
  },
  {
   "cell_type": "code",
   "execution_count": 23,
   "id": "4958f706-5460-4235-8945-e32c8e7473c7",
   "metadata": {},
   "outputs": [
    {
     "name": "stdout",
     "output_type": "stream",
     "text": [
      "1\n",
      "2\n",
      "3\n",
      "4\n",
      "5\n"
     ]
    }
   ],
   "source": [
    "#key method to return keys\n",
    "for x in d10.keys():\n",
    "    print(x)"
   ]
  },
  {
   "cell_type": "code",
   "execution_count": 24,
   "id": "cc6e7a38-a37c-4684-b1de-e92263b426b0",
   "metadata": {},
   "outputs": [
    {
     "name": "stdout",
     "output_type": "stream",
     "text": [
      "1 10\n",
      "2 20\n",
      "3 30\n",
      "4 40\n",
      "5 50\n"
     ]
    }
   ],
   "source": [
    "#return both key and value in dictionary\n",
    "for x,y in d10.items():\n",
    "    print(x,y)"
   ]
  },
  {
   "cell_type": "code",
   "execution_count": null,
   "id": "54c9b76f-fd36-407c-b4d7-69813c9af3c0",
   "metadata": {},
   "outputs": [],
   "source": [
    "#get method\n"
   ]
  },
  {
   "cell_type": "code",
   "execution_count": null,
   "id": "41d6cdd5-3a81-4264-b90b-49d825677b92",
   "metadata": {},
   "outputs": [],
   "source": []
  },
  {
   "cell_type": "code",
   "execution_count": 27,
   "id": "25db764b-8654-4a43-9f08-bcab6ed99ebe",
   "metadata": {},
   "outputs": [
    {
     "name": "stdout",
     "output_type": "stream",
     "text": [
      "['name,marks,subject', 'joe,68,maths', 'tom,59,english', 'alice,63,science']\n"
     ]
    }
   ],
   "source": [
    "s1= \"name,marks,subject\\njoe,68,maths\\ntom,59,english\\nalice,63,science\"\n",
    "data =s1.split('\\n')\n",
    "print(data)"
   ]
  },
  {
   "cell_type": "code",
   "execution_count": null,
   "id": "a475b2cc-b502-48d0-9fa0-07c243909d0f",
   "metadata": {},
   "outputs": [],
   "source": []
  },
  {
   "cell_type": "code",
   "execution_count": null,
   "id": "4d048ff4-a65a-4a67-bba0-eec3a3aaf185",
   "metadata": {},
   "outputs": [],
   "source": []
  }
 ],
 "metadata": {
  "kernelspec": {
   "display_name": "Python 3 (ipykernel)",
   "language": "python",
   "name": "python3"
  },
  "language_info": {
   "codemirror_mode": {
    "name": "ipython",
    "version": 3
   },
   "file_extension": ".py",
   "mimetype": "text/x-python",
   "name": "python",
   "nbconvert_exporter": "python",
   "pygments_lexer": "ipython3",
   "version": "3.11.9"
  }
 },
 "nbformat": 4,
 "nbformat_minor": 5
}
