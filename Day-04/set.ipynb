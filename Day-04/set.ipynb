{
 "cells": [
  {
   "cell_type": "code",
   "execution_count": null,
   "id": "68ca94d6-1d75-4626-ae2b-01109c2ccbac",
   "metadata": {},
   "outputs": [],
   "source": [
    "#set datatype\n",
    "#use {} braces \n",
    "#set must have unique data, duplicates are not allowed\n",
    "#indexing does not work\n",
    "#set is unordered\n",
    "#set elements should be immutable"
   ]
  },
  {
   "cell_type": "code",
   "execution_count": 3,
   "id": "2847fb33-2270-4f59-a316-c98087900664",
   "metadata": {},
   "outputs": [
    {
     "name": "stdout",
     "output_type": "stream",
     "text": [
      "{40, 10, 50, 20, 30}\n"
     ]
    }
   ],
   "source": [
    "list1=(10,20,30,40,50,20,30,10)\n",
    "s1=set(list1)\n",
    "print(s1)"
   ]
  },
  {
   "cell_type": "code",
   "execution_count": 4,
   "id": "e5217b25-6929-44fc-bfc0-7efbf37d56bb",
   "metadata": {},
   "outputs": [
    {
     "ename": "TypeError",
     "evalue": "'set' object is not subscriptable",
     "output_type": "error",
     "traceback": [
      "\u001b[1;31m---------------------------------------------------------------------------\u001b[0m",
      "\u001b[1;31mTypeError\u001b[0m                                 Traceback (most recent call last)",
      "Cell \u001b[1;32mIn[4], line 1\u001b[0m\n\u001b[1;32m----> 1\u001b[0m \u001b[38;5;28mprint\u001b[39m(\u001b[43ms1\u001b[49m\u001b[43m[\u001b[49m\u001b[38;5;241;43m3\u001b[39;49m\u001b[43m]\u001b[49m)\n",
      "\u001b[1;31mTypeError\u001b[0m: 'set' object is not subscriptable"
     ]
    }
   ],
   "source": [
    "print(s1[3])   #indexing not allowed in set"
   ]
  },
  {
   "cell_type": "code",
   "execution_count": 10,
   "id": "499eb141-3e00-47e4-80c9-375a03cf4650",
   "metadata": {},
   "outputs": [
    {
     "name": "stdout",
     "output_type": "stream",
     "text": [
      "{40, 10, 50, 20, 30}\n",
      "{40, 10, 50, 20, 30}\n",
      "{40, 10, 50, 20, 30}\n",
      "{40, 10, 50, 20, 30}\n",
      "{40, 10, 50, 20, 30}\n"
     ]
    }
   ],
   "source": [
    "for x in s1:\n",
    "    print (s1)"
   ]
  },
  {
   "cell_type": "code",
   "execution_count": 11,
   "id": "9dcaf2d2-b227-416e-a4bb-919a04522c82",
   "metadata": {},
   "outputs": [
    {
     "name": "stdout",
     "output_type": "stream",
     "text": [
      "{10, 50, 20, 30}\n"
     ]
    }
   ],
   "source": [
    "s1.remove(40) #remove is used to remove elemnt\n",
    "print(s1)"
   ]
  },
  {
   "cell_type": "code",
   "execution_count": 12,
   "id": "85fc8120-bc69-41a5-b653-163bbf7e5968",
   "metadata": {},
   "outputs": [],
   "source": [
    "s1.add(70)"
   ]
  },
  {
   "cell_type": "code",
   "execution_count": 13,
   "id": "61cf2cc4-397b-4c0e-b812-5f96f21ce225",
   "metadata": {},
   "outputs": [
    {
     "name": "stdout",
     "output_type": "stream",
     "text": [
      "{70, 10, 50, 20, 30}\n"
     ]
    }
   ],
   "source": [
    "print(s1)"
   ]
  },
  {
   "cell_type": "code",
   "execution_count": 14,
   "id": "d1d0051a-69e8-492a-9613-458d16997c19",
   "metadata": {},
   "outputs": [
    {
     "name": "stdout",
     "output_type": "stream",
     "text": [
      "{70, 10, 20, 30}\n"
     ]
    }
   ],
   "source": [
    "s1.discard(50)\n",
    "print(s1)    #discard is used to delet element in set"
   ]
  },
  {
   "cell_type": "code",
   "execution_count": 15,
   "id": "2771ac91-35c5-4287-96a7-4e10f1b4365b",
   "metadata": {},
   "outputs": [
    {
     "name": "stdout",
     "output_type": "stream",
     "text": [
      "{10, 20, 30}\n"
     ]
    }
   ],
   "source": [
    "s1.pop()     #pop is used to remove random elements in set\n",
    "print(s1)"
   ]
  },
  {
   "cell_type": "code",
   "execution_count": 18,
   "id": "60f43f83-548e-43e4-ac92-0687ac6a56aa",
   "metadata": {},
   "outputs": [
    {
     "ename": "NameError",
     "evalue": "name 's1' is not defined",
     "output_type": "error",
     "traceback": [
      "\u001b[1;31m---------------------------------------------------------------------------\u001b[0m",
      "\u001b[1;31mNameError\u001b[0m                                 Traceback (most recent call last)",
      "Cell \u001b[1;32mIn[18], line 2\u001b[0m\n\u001b[0;32m      1\u001b[0m \u001b[38;5;66;03m# .del() - it is used to delet the set completely\u001b[39;00m\n\u001b[1;32m----> 2\u001b[0m \u001b[38;5;28;01mdel\u001b[39;00m \u001b[43ms1\u001b[49m\n\u001b[0;32m      3\u001b[0m \u001b[38;5;28mprint\u001b[39m(s1)\n",
      "\u001b[1;31mNameError\u001b[0m: name 's1' is not defined"
     ]
    }
   ],
   "source": [
    "# .del() - it is used to delet the set completely\n",
    "del s1\n",
    "print(s1)"
   ]
  },
  {
   "cell_type": "code",
   "execution_count": 22,
   "id": "d41d02a6-70db-49c2-88d6-a3041e5b9ddf",
   "metadata": {},
   "outputs": [
    {
     "name": "stdout",
     "output_type": "stream",
     "text": [
      "{34, 44, 23, 55, 56}\n"
     ]
    }
   ],
   "source": [
    "l2=(23,34,44,56,55)\n",
    "s2=set(l2)        #clear() is used to clear the all element in the set\n",
    "s2. clear()\n",
    "print(s2)"
   ]
  },
  {
   "cell_type": "code",
   "execution_count": 23,
   "id": "894ca31e-f77b-4bdc-872d-e0d66879d910",
   "metadata": {},
   "outputs": [
    {
     "name": "stdout",
     "output_type": "stream",
     "text": [
      "set()\n"
     ]
    }
   ],
   "source": [
    "s2.clear()\n",
    "print (s2)"
   ]
  },
  {
   "cell_type": "code",
   "execution_count": 24,
   "id": "3fea9a1b-0075-47fe-ba54-0da8eeac6948",
   "metadata": {},
   "outputs": [
    {
     "ename": "SyntaxError",
     "evalue": "invalid syntax (3449091822.py, line 1)",
     "output_type": "error",
     "traceback": [
      "\u001b[1;36m  Cell \u001b[1;32mIn[24], line 1\u001b[1;36m\u001b[0m\n\u001b[1;33m    s3=set{5}\u001b[0m\n\u001b[1;37m          ^\u001b[0m\n\u001b[1;31mSyntaxError\u001b[0m\u001b[1;31m:\u001b[0m invalid syntax\n"
     ]
    }
   ],
   "source": [
    "s3=set{5}\n",
    "print(s3)"
   ]
  },
  {
   "cell_type": "code",
   "execution_count": 26,
   "id": "8db754e2-7702-4d7f-8c81-ecab277c8405",
   "metadata": {},
   "outputs": [
    {
     "name": "stdout",
     "output_type": "stream",
     "text": [
      "{34, 45, 23}\n",
      "<class 'set'>\n"
     ]
    }
   ],
   "source": [
    "s4={23,34,45}\n",
    "print(s4)  \n",
    "print(type(s4))\n",
    "#declearing set"
   ]
  },
  {
   "cell_type": "code",
   "execution_count": 28,
   "id": "0d5a75e8-c188-4ec0-ac8a-44a339b257a1",
   "metadata": {},
   "outputs": [
    {
     "name": "stdout",
     "output_type": "stream",
     "text": [
      "34\n",
      "45\n",
      "23\n"
     ]
    }
   ],
   "source": [
    "for x in s4:\n",
    "    print(x)    #looping element through set"
   ]
  },
  {
   "cell_type": "code",
   "execution_count": 29,
   "id": "a2e99c72-0e9f-488e-97eb-eef2398c0c1f",
   "metadata": {},
   "outputs": [
    {
     "name": "stdout",
     "output_type": "stream",
     "text": [
      "{34, 45, 23}\n",
      "{34, 45, 23}\n",
      "{34, 45, 23}\n"
     ]
    }
   ],
   "source": [
    "for x in s4:\n",
    "    print(s4) #iterating set"
   ]
  },
  {
   "cell_type": "code",
   "execution_count": null,
   "id": "9314ebbd-bd69-4032-8f04-f05e1cf0a65b",
   "metadata": {},
   "outputs": [],
   "source": [
    "# working with strings:\n"
   ]
  },
  {
   "cell_type": "code",
   "execution_count": 30,
   "id": "ba10d03c-7197-486c-bc4d-e39e0c79de06",
   "metadata": {},
   "outputs": [
    {
     "data": {
      "text/plain": [
       "'PIYUSH'"
      ]
     },
     "execution_count": 30,
     "metadata": {},
     "output_type": "execute_result"
    }
   ],
   "source": [
    "a=\"piyush\"\n",
    "a.upper()    #string"
   ]
  },
  {
   "cell_type": "code",
   "execution_count": 31,
   "id": "c8709427-9ef0-483e-8b7d-5cd20fb274b0",
   "metadata": {},
   "outputs": [
    {
     "name": "stdout",
     "output_type": "stream",
     "text": [
      "piyush\n"
     ]
    }
   ],
   "source": [
    "print(a)"
   ]
  },
  {
   "cell_type": "code",
   "execution_count": 32,
   "id": "e304749f-c147-40b9-aa4c-56eaf84bbf99",
   "metadata": {},
   "outputs": [
    {
     "ename": "AttributeError",
     "evalue": "'str' object has no attribute 'switchcase'",
     "output_type": "error",
     "traceback": [
      "\u001b[1;31m---------------------------------------------------------------------------\u001b[0m",
      "\u001b[1;31mAttributeError\u001b[0m                            Traceback (most recent call last)",
      "Cell \u001b[1;32mIn[32], line 1\u001b[0m\n\u001b[1;32m----> 1\u001b[0m \u001b[43ma\u001b[49m\u001b[38;5;241;43m.\u001b[39;49m\u001b[43mswitchcase\u001b[49m()\n",
      "\u001b[1;31mAttributeError\u001b[0m: 'str' object has no attribute 'switchcase'"
     ]
    }
   ],
   "source": [
    "a.switchcase()"
   ]
  },
  {
   "cell_type": "code",
   "execution_count": 33,
   "id": "4bb48445-1bea-4a37-8dda-75f4cfa856ba",
   "metadata": {},
   "outputs": [
    {
     "data": {
      "text/plain": [
       "'PIYUSH'"
      ]
     },
     "execution_count": 33,
     "metadata": {},
     "output_type": "execute_result"
    }
   ],
   "source": [
    "a.swapcase()"
   ]
  },
  {
   "cell_type": "code",
   "execution_count": 34,
   "id": "5f37a005-ba56-4d5d-a176-9490c064b188",
   "metadata": {},
   "outputs": [
    {
     "name": "stdout",
     "output_type": "stream",
     "text": [
      "p\n",
      "i\n",
      "y\n",
      "u\n",
      "s\n",
      "h\n"
     ]
    }
   ],
   "source": [
    "for x in a:\n",
    "    print(x)"
   ]
  },
  {
   "cell_type": "code",
   "execution_count": 35,
   "id": "0636b84f-3f82-4d24-bf06-dff1e8606b3a",
   "metadata": {},
   "outputs": [
    {
     "name": "stdout",
     "output_type": "stream",
     "text": [
      "piyush\n",
      "piyush\n",
      "piyush\n",
      "piyush\n",
      "piyush\n",
      "piyush\n"
     ]
    }
   ],
   "source": [
    "for x in a:\n",
    "    print(a)"
   ]
  },
  {
   "cell_type": "code",
   "execution_count": 37,
   "id": "ee787fee-00d0-433a-988d-5f4712b6abe7",
   "metadata": {},
   "outputs": [
    {
     "ename": "AttributeError",
     "evalue": "'str' object has no attribute 'search'",
     "output_type": "error",
     "traceback": [
      "\u001b[1;31m---------------------------------------------------------------------------\u001b[0m",
      "\u001b[1;31mAttributeError\u001b[0m                            Traceback (most recent call last)",
      "Cell \u001b[1;32mIn[37], line 1\u001b[0m\n\u001b[1;32m----> 1\u001b[0m \u001b[43ma\u001b[49m\u001b[38;5;241;43m.\u001b[39;49m\u001b[43msearch\u001b[49m(i)\n\u001b[0;32m      2\u001b[0m \u001b[38;5;28mprint\u001b[39m(a)\n",
      "\u001b[1;31mAttributeError\u001b[0m: 'str' object has no attribute 'search'"
     ]
    }
   ],
   "source": [
    "a.search(i)\n",
    "print(a)"
   ]
  },
  {
   "cell_type": "code",
   "execution_count": 39,
   "id": "0ddc3760-b5f9-49ec-8baf-8a3314384240",
   "metadata": {},
   "outputs": [
    {
     "name": "stdout",
     "output_type": "stream",
     "text": [
      "2\n"
     ]
    }
   ],
   "source": [
    "s=\"madam\"\n",
    "print(s.count('a'))"
   ]
  },
  {
   "cell_type": "code",
   "execution_count": 42,
   "id": "a5a78b51-43da-432c-9ff3-7f3683938470",
   "metadata": {},
   "outputs": [
    {
     "name": "stdout",
     "output_type": "stream",
     "text": [
      "['cat ', 'sat ', 'on', ' mat']\n"
     ]
    }
   ],
   "source": [
    "str=\"cat -sat -on- mat\"\n",
    "words= str.split('-')\n",
    "print(words)      #passing delimeter in strings"
   ]
  },
  {
   "cell_type": "code",
   "execution_count": null,
   "id": "8f2cca5d-ba39-4cc7-af4f-ceef33130a9d",
   "metadata": {},
   "outputs": [],
   "source": [
    "#.split() used to split the string"
   ]
  },
  {
   "cell_type": "code",
   "execution_count": 48,
   "id": "c372f6dd-337b-4529-b2de-777d786fdfe4",
   "metadata": {},
   "outputs": [
    {
     "ename": "SyntaxError",
     "evalue": "invalid syntax (2655180257.py, line 4)",
     "output_type": "error",
     "traceback": [
      "\u001b[1;36m  Cell \u001b[1;32mIn[48], line 4\u001b[1;36m\u001b[0m\n\u001b[1;33m    print(\"the value of pi = %.2f\",%pi)\u001b[0m\n\u001b[1;37m                                   ^\u001b[0m\n\u001b[1;31mSyntaxError\u001b[0m\u001b[1;31m:\u001b[0m invalid syntax\n"
     ]
    }
   ],
   "source": [
    "#formating string\n",
    "pi=3.141567\n",
    "print(\"value of pi is %f\"%pi)\n",
    "print(\"the value of pi = %.2f\",%pi)"
   ]
  },
  {
   "cell_type": "code",
   "execution_count": 49,
   "id": "8a1f83a5-7e37-4b53-b72e-7040473172ed",
   "metadata": {},
   "outputs": [
    {
     "name": "stdout",
     "output_type": "stream",
     "text": [
      "It;s alright\n"
     ]
    }
   ],
   "source": [
    "print(\"It;s alright\")"
   ]
  },
  {
   "cell_type": "code",
   "execution_count": 52,
   "id": "5a6ec0dc-a493-4ec5-a02f-7e3c5bbde431",
   "metadata": {},
   "outputs": [
    {
     "name": "stdout",
     "output_type": "stream",
     "text": [
      "he is 'piyush' \n"
     ]
    }
   ],
   "source": [
    "print (\"he is 'piyush' \")"
   ]
  },
  {
   "cell_type": "code",
   "execution_count": 54,
   "id": "79ff2fa2-ef64-450e-ad77-b329b314e832",
   "metadata": {},
   "outputs": [
    {
     "name": "stdout",
     "output_type": "stream",
     "text": [
      "<class 'str'>\n"
     ]
    }
   ],
   "source": [
    "a=\"name\"\n",
    "print(type(\"name\"))"
   ]
  },
  {
   "cell_type": "code",
   "execution_count": 56,
   "id": "c18754a1-9bfd-422c-985c-bf05f1d646e2",
   "metadata": {},
   "outputs": [
    {
     "name": "stdout",
     "output_type": "stream",
     "text": [
      "name,address,phone number\n"
     ]
    }
   ],
   "source": [
    "a=\"name,address,phone number\"\n",
    "a.split(',')\n",
    "print(a)"
   ]
  },
  {
   "cell_type": "code",
   "execution_count": 57,
   "id": "292fbf5e-782b-44f1-b0fc-bade45cab714",
   "metadata": {},
   "outputs": [
    {
     "name": "stdout",
     "output_type": "stream",
     "text": [
      "25\n"
     ]
    }
   ],
   "source": [
    "print(len(a))"
   ]
  },
  {
   "cell_type": "code",
   "execution_count": 58,
   "id": "7212185d-19ab-4ae8-980b-8d2612b7b7bf",
   "metadata": {},
   "outputs": [
    {
     "name": "stdout",
     "output_type": "stream",
     "text": [
      "name,address,phone number\n",
      "name,address,phone number\n",
      "name,address,phone number\n",
      "name,address,phone number\n",
      "name,address,phone number\n",
      "name,address,phone number\n",
      "name,address,phone number\n",
      "name,address,phone number\n",
      "name,address,phone number\n",
      "name,address,phone number\n",
      "name,address,phone number\n",
      "name,address,phone number\n",
      "name,address,phone number\n",
      "name,address,phone number\n",
      "name,address,phone number\n",
      "name,address,phone number\n",
      "name,address,phone number\n",
      "name,address,phone number\n",
      "name,address,phone number\n",
      "name,address,phone number\n",
      "name,address,phone number\n",
      "name,address,phone number\n",
      "name,address,phone number\n",
      "name,address,phone number\n",
      "name,address,phone number\n"
     ]
    }
   ],
   "source": [
    "for x in a:\n",
    "    print(a)"
   ]
  },
  {
   "cell_type": "code",
   "execution_count": 59,
   "id": "de54b3c1-3c7c-433f-92b1-3e4e53c1a7e9",
   "metadata": {},
   "outputs": [
    {
     "name": "stdout",
     "output_type": "stream",
     "text": [
      "n\n",
      "a\n",
      "m\n",
      "e\n",
      ",\n",
      "a\n",
      "d\n",
      "d\n",
      "r\n",
      "e\n",
      "s\n",
      "s\n",
      ",\n",
      "p\n",
      "h\n",
      "o\n",
      "n\n",
      "e\n",
      " \n",
      "n\n",
      "u\n",
      "m\n",
      "b\n",
      "e\n",
      "r\n"
     ]
    }
   ],
   "source": [
    "for x in a:\n",
    "    print(x)"
   ]
  },
  {
   "cell_type": "code",
   "execution_count": 61,
   "id": "1cbe3daf-0408-4a90-9409-b9df7142a950",
   "metadata": {},
   "outputs": [
    {
     "name": "stdout",
     "output_type": "stream",
     "text": [
      "h\n"
     ]
    }
   ],
   "source": [
    "str=\"piyush\"\n",
    "print(str[5])"
   ]
  },
  {
   "cell_type": "code",
   "execution_count": 63,
   "id": "fda1950e-f686-4d9c-b11a-b7cd5a97fb36",
   "metadata": {},
   "outputs": [
    {
     "name": "stdout",
     "output_type": "stream",
     "text": [
      "True\n"
     ]
    }
   ],
   "source": [
    "print('i' in str)  #in"
   ]
  },
  {
   "cell_type": "code",
   "execution_count": 64,
   "id": "3bb6565a-603d-4767-9bac-9b57324c6a30",
   "metadata": {},
   "outputs": [
    {
     "name": "stdout",
     "output_type": "stream",
     "text": [
      "False\n"
     ]
    }
   ],
   "source": [
    "print(\"k\" in str)"
   ]
  },
  {
   "cell_type": "code",
   "execution_count": 68,
   "id": "b5732dad-5237-484a-a7fb-7cfc78483e70",
   "metadata": {},
   "outputs": [
    {
     "name": "stdout",
     "output_type": "stream",
     "text": [
      "yes\n"
     ]
    }
   ],
   "source": [
    "if 'p' in str:\n",
    "    print(\"yes\")\n",
    "else:\n",
    "    print(\"no\")"
   ]
  },
  {
   "cell_type": "code",
   "execution_count": 69,
   "id": "e69f0cda-a1ea-4d41-b545-18804aa4ed1b",
   "metadata": {},
   "outputs": [
    {
     "name": "stdout",
     "output_type": "stream",
     "text": [
      "False\n"
     ]
    }
   ],
   "source": [
    "print('s' not in str)   #n0t in"
   ]
  },
  {
   "cell_type": "code",
   "execution_count": 78,
   "id": "cc0d1ad7-8c95-49e2-978a-d5409cb786c5",
   "metadata": {},
   "outputs": [
    {
     "name": "stdout",
     "output_type": "stream",
     "text": [
      "hell\n"
     ]
    }
   ],
   "source": [
    "b=\"hello piyush\"\n",
    "print(b[0:4])"
   ]
  },
  {
   "cell_type": "code",
   "execution_count": 76,
   "id": "daa84fc2-f365-45c3-a531-b6c97c0a4fed",
   "metadata": {},
   "outputs": [
    {
     "name": "stdout",
     "output_type": "stream",
     "text": [
      "piyush\n"
     ]
    }
   ],
   "source": [
    "print(b[5:])"
   ]
  },
  {
   "cell_type": "code",
   "execution_count": 79,
   "id": "78e5554e-b2db-48d1-a433-b96e8da50dfa",
   "metadata": {},
   "outputs": [
    {
     "name": "stdout",
     "output_type": "stream",
     "text": [
      "h\n",
      "e\n",
      "l\n",
      "l\n",
      "o\n",
      " \n",
      "p\n",
      "i\n",
      "y\n",
      "u\n",
      "s\n",
      "h\n"
     ]
    }
   ],
   "source": [
    "for x in b:\n",
    "    print(x)"
   ]
  },
  {
   "cell_type": "code",
   "execution_count": 81,
   "id": "e52d9497-b457-4761-a23f-fae56f5f7aa3",
   "metadata": {},
   "outputs": [
    {
     "name": "stdout",
     "output_type": "stream",
     "text": [
      "make\n"
     ]
    }
   ],
   "source": [
    "# -ve index for slicing\n",
    "h=\"homemaker\"\n",
    "print(h[-5:-1])"
   ]
  },
  {
   "cell_type": "code",
   "execution_count": 84,
   "id": "eed9f6e3-ef23-46ae-a17f-ad6e12a0356f",
   "metadata": {},
   "outputs": [
    {
     "name": "stdout",
     "output_type": "stream",
     "text": [
      "hello how are you?\n"
     ]
    }
   ],
   "source": [
    "a=\"  hello how are you? \"\n",
    "print(a.strip())"
   ]
  },
  {
   "cell_type": "code",
   "execution_count": null,
   "id": "460e8341-c879-4fed-bc03-65b14d7e86a8",
   "metadata": {},
   "outputs": [],
   "source": []
  }
 ],
 "metadata": {
  "kernelspec": {
   "display_name": "Python 3 (ipykernel)",
   "language": "python",
   "name": "python3"
  },
  "language_info": {
   "codemirror_mode": {
    "name": "ipython",
    "version": 3
   },
   "file_extension": ".py",
   "mimetype": "text/x-python",
   "name": "python",
   "nbconvert_exporter": "python",
   "pygments_lexer": "ipython3",
   "version": "3.11.9"
  }
 },
 "nbformat": 4,
 "nbformat_minor": 5
}
