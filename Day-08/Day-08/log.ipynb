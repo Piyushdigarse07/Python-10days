{
 "cells": [
  {
   "cell_type": "code",
   "execution_count": null,
   "id": "ff0082cd-611f-4da0-bc8c-d13a80c41dad",
   "metadata": {},
   "outputs": [],
   "source": [
    "#log - recording of events\n",
    "#log file - where the events are recorded\n",
    "#requires internet connectivity\n",
    "\n",
    "#priority- critical,warning,info,debugging"
   ]
  },
  {
   "cell_type": "code",
   "execution_count": 4,
   "id": "373ea253-3d17-45c5-9a45-a2a3824f7097",
   "metadata": {},
   "outputs": [
    {
     "name": "stderr",
     "output_type": "stream",
     "text": [
      "DEBUG:root:this is debug log\n",
      "INFO:root:this is a informational log\n",
      "WARNING:root:this i a warning log\n",
      "CRITICAL:root:this is a critical log\n"
     ]
    }
   ],
   "source": [
    "#logging- module used for creating log\n",
    "import logging\n",
    "\n",
    "#configure the log\n",
    "logging.basicConfig(level=logging.DEBUG)\n",
    "\n",
    "#CREATE LOGGER \n",
    "logger =logging.getLogger()\n",
    "logger.debug(\"this is debug log\")\n",
    "logger.info(\"this is a informational log\")\n",
    "logger.warning(\"this i a warning log\")\n",
    "logger.critical(\"this is a critical log\")"
   ]
  },
  {
   "cell_type": "code",
   "execution_count": null,
   "id": "0b57d2cd-c775-4c82-952e-a4bc4549477c",
   "metadata": {},
   "outputs": [],
   "source": []
  },
  {
   "cell_type": "code",
   "execution_count": null,
   "id": "bda03067-f2de-48e5-a26d-bd52061e0db1",
   "metadata": {},
   "outputs": [],
   "source": []
  },
  {
   "cell_type": "code",
   "execution_count": 8,
   "id": "16769cf3-1f2b-4e5a-bad1-c07e254ebe66",
   "metadata": {},
   "outputs": [
    {
     "ename": "SyntaxError",
     "evalue": "invalid syntax. Perhaps you forgot a comma? (2692601668.py, line 3)",
     "output_type": "error",
     "traceback": [
      "\u001b[1;36m  Cell \u001b[1;32mIn[8], line 3\u001b[1;36m\u001b[0m\n\u001b[1;33m    logging.basicConfig(file name=\"newfile.log\",filemode=\"w\",level=logging.DEBUG)\u001b[0m\n\u001b[1;37m                        ^\u001b[0m\n\u001b[1;31mSyntaxError\u001b[0m\u001b[1;31m:\u001b[0m invalid syntax. Perhaps you forgot a comma?\n"
     ]
    }
   ],
   "source": [
    "#SAVING LOF TO FILE\n",
    "import logging\n",
    "logging.basicConfig(file name=\"newfile.log\",filemode=\"w\",level=logging.DEBUG)\n",
    "logger = logging.getLogger()"
   ]
  },
  {
   "cell_type": "code",
   "execution_count": null,
   "id": "234490ef-1183-4051-8782-78300c35b933",
   "metadata": {},
   "outputs": [],
   "source": [
    "#running the script in debugging mode\n"
   ]
  },
  {
   "cell_type": "code",
   "execution_count": null,
   "id": "1aaf093b-b865-4795-ae27-2f938b53a937",
   "metadata": {},
   "outputs": [
    {
     "name": "stdout",
     "output_type": "stream",
     "text": [
      "> \u001b[1;32mc:\\users\\administrator\\appdata\\local\\temp\\ipykernel_6140\\2008666023.py\u001b[0m(6)\u001b[0;36m<module>\u001b[1;34m()\u001b[0m\n",
      "\n"
     ]
    },
    {
     "name": "stdin",
     "output_type": "stream",
     "text": [
      "ipdb>  1\n"
     ]
    },
    {
     "name": "stdout",
     "output_type": "stream",
     "text": [
      "1\n"
     ]
    },
    {
     "name": "stdin",
     "output_type": "stream",
     "text": [
      "ipdb>  c\n"
     ]
    },
    {
     "name": "stdout",
     "output_type": "stream",
     "text": [
      "1:a\n",
      "1:b\n",
      "1:c\n",
      "1:d\n",
      "1:e\n",
      "> \u001b[1;32mc:\\users\\administrator\\appdata\\local\\temp\\ipykernel_6140\\2008666023.py\u001b[0m(6)\u001b[0;36m<module>\u001b[1;34m()\u001b[0m\n",
      "\n"
     ]
    },
    {
     "name": "stdin",
     "output_type": "stream",
     "text": [
      "ipdb>  2\n"
     ]
    },
    {
     "name": "stdout",
     "output_type": "stream",
     "text": [
      "2\n",
      "--KeyboardInterrupt--\n",
      "\n",
      "KeyboardInterrupt: Interrupted by user\n",
      "2:a\n",
      "2:b\n",
      "2:c\n",
      "2:d\n",
      "2:e\n",
      "> \u001b[1;32mc:\\users\\administrator\\appdata\\local\\temp\\ipykernel_6140\\2008666023.py\u001b[0m(6)\u001b[0;36m<module>\u001b[1;34m()\u001b[0m\n",
      "\n"
     ]
    }
   ],
   "source": [
    "import pdb\n",
    "chars=['a','b','c','d','e']\n",
    "num=[1,2,3]\n",
    "for k in num:\n",
    "    pdb.set_trace()\n",
    "    for c in chars:\n",
    "        print(\"{}:{}\".format(k,c))"
   ]
  },
  {
   "cell_type": "code",
   "execution_count": null,
   "id": "b3d3153a-604d-443a-b8f9-0b0403def950",
   "metadata": {},
   "outputs": [],
   "source": [
    "#exceptional handling\n"
   ]
  },
  {
   "cell_type": "code",
   "execution_count": null,
   "id": "2b8dda76-8bd0-427c-9882-58c9d7709670",
   "metadata": {},
   "outputs": [],
   "source": [
    "def rnumber(n):\n",
    "    if n>0:\n",
    "        rnumber(n-1)\n",
    "        print(n)"
   ]
  },
  {
   "cell_type": "code",
   "execution_count": null,
   "id": "75203ccf-b258-45fc-b01e-34edc9784182",
   "metadata": {},
   "outputs": [],
   "source": []
  },
  {
   "cell_type": "code",
   "execution_count": null,
   "id": "708444e0-ffc9-4cd6-8639-8bebdb4bb03e",
   "metadata": {},
   "outputs": [],
   "source": []
  },
  {
   "cell_type": "code",
   "execution_count": null,
   "id": "801d5293-3802-4a97-b388-c00ce92e55a9",
   "metadata": {},
   "outputs": [],
   "source": []
  }
 ],
 "metadata": {
  "kernelspec": {
   "display_name": "Python 3 (ipykernel)",
   "language": "python",
   "name": "python3"
  },
  "language_info": {
   "codemirror_mode": {
    "name": "ipython",
    "version": 3
   },
   "file_extension": ".py",
   "mimetype": "text/x-python",
   "name": "python",
   "nbconvert_exporter": "python",
   "pygments_lexer": "ipython3",
   "version": "3.11.9"
  }
 },
 "nbformat": 4,
 "nbformat_minor": 5
}
