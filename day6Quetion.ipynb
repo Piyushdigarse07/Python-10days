{
 "cells": [
  {
   "cell_type": "code",
   "execution_count": 5,
   "id": "7ee81f36-19aa-4e27-9249-ee97a950948e",
   "metadata": {},
   "outputs": [
    {
     "name": "stdout",
     "output_type": "stream",
     "text": [
      "True\n",
      "True\n",
      "False\n"
     ]
    }
   ],
   "source": [
    "\"\"\"\n",
    "1. Write a function that returns True if two arrays, when combined, form a consecutive sequence. A consecutive sequence \n",
    "is a sequence without any gaps in the integers, e.g. 1, 2, 3, 4, 5 is a consecutive sequence, but 1, 2, 4, 5 is not.\n",
    "\"\"\"\n",
    "def consecutive_seq(a1, a2): \n",
    "    com_arr = a1 + a2 \n",
    "    com_arr.sort()\n",
    "\n",
    "    for i in range(1, len(com_arr)): \n",
    "        if com_arr[i] != com_arr[i - 1] + 1:\n",
    "            return False\n",
    "\n",
    "    return True\n",
    "\n",
    "a1 = [2, 4, 5, 1] \n",
    "a2 = [3, 6, 7] \n",
    "print(consecutive_seq(a1, a2))\n",
    "\n",
    "a1 = [2, 4, 5]\n",
    "a2 = [3, 6, 7]\n",
    "print(consecutive_seq(a1, a2))\n",
    "\n",
    "a1 = [4, 5, 1]\n",
    "a2 = [3, 6, 7]\n",
    "print(consecutive_seq(a1, a2))"
   ]
  },
  {
   "cell_type": "code",
   "execution_count": 32,
   "id": "31be0e30-bdd0-490e-b3e5-3c8caf2b71a2",
   "metadata": {},
   "outputs": [
    {
     "name": "stdin",
     "output_type": "stream",
     "text": [
      "Enter the brackets string:  {{[]}(){}}\n"
     ]
    },
    {
     "name": "stdout",
     "output_type": "stream",
     "text": [
      "Balanced\n"
     ]
    }
   ],
   "source": [
    "#2. check if the given string is balance. The string will have only {,},(,),[,] characters s1 = '{{[]}(){}}'\n",
    "\n",
    "def is_balanced(s):\n",
    "    brackets = []\n",
    "    bracket = {')': '(', '}': '{', ']': '['}\n",
    "    \n",
    "    for char in s:\n",
    "        if char in bracket.values():\n",
    "            brackets.append(char)\n",
    "        elif char in bracket.keys():\n",
    "            if brackets == [] or bracket[char] != brackets.pop():\n",
    "                return \"Not Balanced\"\n",
    "    \n",
    "    if brackets == []:\n",
    "        return \"Balanced\"\n",
    "    else:\n",
    "        return \"Not Balanced\"\n",
    "\n",
    "s1 = input(\"Enter the brackets string: \")\n",
    "print(is_balanced(s1))"
   ]
  },
  {
   "cell_type": "code",
   "execution_count": 8,
   "id": "ed9349e9-9e61-44f5-b212-f4d7e11d1c5e",
   "metadata": {},
   "outputs": [
    {
     "name": "stdout",
     "output_type": "stream",
     "text": [
      "19\n"
     ]
    }
   ],
   "source": [
    "#3. find the highest sum of adjacent numbers in the below list\n",
    "# list1 = [8, -6, 9, 12, 7, 4]\n",
    "\n",
    "def high_sum(list1):\n",
    "    if len(list1) < 2:\n",
    "        return Flase\n",
    "    sum = list1[0] + list1[1]\n",
    "    for i in range(1, len(list1) - 1):\n",
    "        sum1 = list1[i] + list1[i + 1]\n",
    "        if sum1 > sum:\n",
    "            sum = sum1\n",
    "    return sum\n",
    "\n",
    "list1 = [8, -6, 9, 3, 12, 7, 4]\n",
    "print(high_sum(list1))"
   ]
  },
  {
   "cell_type": "code",
   "execution_count": 9,
   "id": "94a6fccf-1d34-4091-b066-90e49b0b9ee2",
   "metadata": {},
   "outputs": [
    {
     "name": "stdout",
     "output_type": "stream",
     "text": [
      "6\n"
     ]
    }
   ],
   "source": [
    "#4. given a list of list with each inner list of equal size in sorted order. Find minimum element that is present in all inner list. \n",
    "# for example given the list [[2,3,4,6,8], [1,2,4,6,9], [3,4,5,6,7), [2,5,6,8,9]] the answer will be 6\n",
    "\n",
    "def find_min(list1):\n",
    "    for row in list1:\n",
    "        for element in row:\n",
    "            n = [True if element in x else False for x in list1]\n",
    "            if all(n):\n",
    "                return element\n",
    "    return -1\n",
    "\n",
    "print(find_min([[2, 3, 4, 6, 8], [1, 2, 4, 6, 9], [3, 4, 5, 6, 7], [2, 5, 6, 8, 9]]))"
   ]
  },
  {
   "cell_type": "code",
   "execution_count": null,
   "id": "7cb9ad60-0a18-4264-acf4-bfcb5788745a",
   "metadata": {},
   "outputs": [],
   "source": []
  }
 ],
 "metadata": {
  "kernelspec": {
   "display_name": "Python 3 (ipykernel)",
   "language": "python",
   "name": "python3"
  },
  "language_info": {
   "codemirror_mode": {
    "name": "ipython",
    "version": 3
   },
   "file_extension": ".py",
   "mimetype": "text/x-python",
   "name": "python",
   "nbconvert_exporter": "python",
   "pygments_lexer": "ipython3",
   "version": "3.11.7"
  }
 },
 "nbformat": 4,
 "nbformat_minor": 5
}
