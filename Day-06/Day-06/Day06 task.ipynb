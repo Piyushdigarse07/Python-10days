{
 "cells": [
  {
   "cell_type": "code",
   "execution_count": null,
   "id": "186dd8b9-06c6-4246-9e3c-1a64a17b77b3",
   "metadata": {},
   "outputs": [],
   "source": [
    "#task of Day-06"
   ]
  },
  {
   "cell_type": "code",
   "execution_count": 11,
   "id": "fc3319a8-c3e6-4bfb-b469-14dd50a119ac",
   "metadata": {},
   "outputs": [
    {
     "ename": "SyntaxError",
     "evalue": "'return' outside function (203333860.py, line 7)",
     "output_type": "error",
     "traceback": [
      "\u001b[1;36m  Cell \u001b[1;32mIn[11], line 7\u001b[1;36m\u001b[0m\n\u001b[1;33m    return False\u001b[0m\n\u001b[1;37m    ^\u001b[0m\n\u001b[1;31mSyntaxError\u001b[0m\u001b[1;31m:\u001b[0m 'return' outside function\n"
     ]
    }
   ],
   "source": [
    "def sequence(arr1,arr2):\n",
    "    add=arr1+aar2\n",
    "    add= list(set(add))\n",
    "    add.sort()\n",
    "for i in range(len(add)-1):\n",
    "    if add[i]+1 != add[i+1]:\n",
    "        return False\n",
    "return True\n",
    "arr1=[1,2,3]\n",
    "arr2=[3,5]\n",
    "print(sequence(arr1,arr2))\n",
    "              \n",
    "              \n",
    "    "
   ]
  },
  {
   "cell_type": "code",
   "execution_count": 14,
   "id": "88066a02-be31-45ef-b701-c93d5f4ac8df",
   "metadata": {},
   "outputs": [
    {
     "name": "stdout",
     "output_type": "stream",
     "text": [
      "True\n"
     ]
    }
   ],
   "source": [
    "def sequence(arr1,arr2):\n",
    "    add= arr1+arr2\n",
    "    add= list(set(add))\n",
    "    add.sort()\n",
    "    for i in range(len(add)-1):\n",
    "        if add[i]+1 != add[i+1]:\n",
    "            return False\n",
    "    return True\n",
    "arr1=[1,2,3]\n",
    "arr2=[4,5]\n",
    "print(sequence(arr1,arr2))"
   ]
  },
  {
   "cell_type": "code",
   "execution_count": 19,
   "id": "9895b308-89d4-41b7-9378-4cea9ffdade9",
   "metadata": {},
   "outputs": [
    {
     "name": "stdout",
     "output_type": "stream",
     "text": [
      "19\n"
     ]
    }
   ],
   "source": [
    "#highest sum of adjusent number\n",
    "list1=[8,6,-1,9,3,12,7,4]\n",
    "hsum= list1[0]+list1[1]\n",
    "for i in range(1,len(list1)-1):\n",
    "    adjsum=list1[i]+list1[i+1]\n",
    "    if adjsum>hsum:\n",
    "        hsum = adjsum\n",
    "print(hsum)"
   ]
  },
  {
   "cell_type": "code",
   "execution_count": null,
   "id": "50e3a9a8-d113-4234-a9db-e4951f785c77",
   "metadata": {},
   "outputs": [],
   "source": []
  }
 ],
 "metadata": {
  "kernelspec": {
   "display_name": "Python 3 (ipykernel)",
   "language": "python",
   "name": "python3"
  },
  "language_info": {
   "codemirror_mode": {
    "name": "ipython",
    "version": 3
   },
   "file_extension": ".py",
   "mimetype": "text/x-python",
   "name": "python",
   "nbconvert_exporter": "python",
   "pygments_lexer": "ipython3",
   "version": "3.11.9"
  }
 },
 "nbformat": 4,
 "nbformat_minor": 5
}
