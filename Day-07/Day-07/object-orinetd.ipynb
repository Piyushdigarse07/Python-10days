{
 "cells": [
  {
   "cell_type": "code",
   "execution_count": null,
   "id": "b04e4bdc-7e0b-441b-8cd3-14d97eae6730",
   "metadata": {},
   "outputs": [],
   "source": [
    "#object-oriented programming- class and object\n",
    "#we will use class and object"
   ]
  },
  {
   "cell_type": "code",
   "execution_count": null,
   "id": "07de4bae-e02f-47b6-adf7-2c1a4a12c92a",
   "metadata": {},
   "outputs": [],
   "source": [
    "#structure programming- function and procedure"
   ]
  },
  {
   "cell_type": "code",
   "execution_count": null,
   "id": "cf5c1c32-76e2-4c7b-8ad7-508210b4591c",
   "metadata": {},
   "outputs": [],
   "source": [
    "#object- instance of class\n",
    "#        physical entity that is instance of class"
   ]
  },
  {
   "cell_type": "code",
   "execution_count": null,
   "id": "5d9928c4-2325-4b34-bdb9-bab3eb6b517f",
   "metadata": {},
   "outputs": [],
   "source": [
    "#class- it is the blueprint of object\n",
    "    #it consist of data member and member function\n",
    "#it is user -defined data structure"
   ]
  },
  {
   "cell_type": "code",
   "execution_count": 10,
   "id": "c6ce684d-e406-42d7-99f5-28d700564cf8",
   "metadata": {},
   "outputs": [
    {
     "name": "stdout",
     "output_type": "stream",
     "text": [
      "1000\n"
     ]
    }
   ],
   "source": [
    "class BankAccount:\n",
    "    def __init__(self):\n",
    "        self.name=\"piyush\"\n",
    "        self.number= 264382\n",
    "        self.curbal =1000\n",
    "    def withdrwal(self,amount):\n",
    "        self.curbal -= amount\n",
    "\n",
    "    def getCurBal(self):\n",
    "        return self.curbal\n",
    "\n",
    "obj=BankAccount()\n",
    "print(obj.getCurBal())"
   ]
  },
  {
   "cell_type": "code",
   "execution_count": 14,
   "id": "61b7ba7d-660e-400c-b18a-50df55848066",
   "metadata": {},
   "outputs": [
    {
     "name": "stdout",
     "output_type": "stream",
     "text": [
      "from mian: <__main__.Point object at 0x0000020D4A1350D0>\n",
      "from instance method: <__main__.Point object at 0x0000020D4A1350D0>\n",
      "parameter are: 13 14\n"
     ]
    }
   ],
   "source": [
    "class Point:\n",
    "    def showValues(self,x1,y1):\n",
    "        print(\"from instance method:\",self)\n",
    "        print(\"parameter are:\",x1,y1)\n",
    "        \n",
    "        #def __init__(self,x1,y1):\n",
    "           # print(f\"from another method{self.x},{self.y}\")\n",
    "\n",
    "obj =Point()\n",
    "print(\"from mian:\",obj)\n",
    "obj.showValues(13,14)   #obj.showValue(obj)\n",
    "#obj.anotherMethod()"
   ]
  },
  {
   "cell_type": "raw",
   "id": "577ab00e-e838-4b8c-9bad-0f7c11195b7c",
   "metadata": {},
   "source": []
  },
  {
   "cell_type": "code",
   "execution_count": null,
   "id": "39bf9ddb-1430-4861-a828-26a26c2eef2e",
   "metadata": {},
   "outputs": [],
   "source": [
    "#constructor- a special method called when object is created"
   ]
  },
  {
   "cell_type": "code",
   "execution_count": null,
   "id": "9879d3e5-98e2-4afd-bf70-1dd4704bd3d6",
   "metadata": {},
   "outputs": [],
   "source": [
    "#  __init__  (it is declread as)"
   ]
  },
  {
   "cell_type": "code",
   "execution_count": 20,
   "id": "3b021eff-9891-46d0-92ee-414a7de2146d",
   "metadata": {},
   "outputs": [
    {
     "name": "stdout",
     "output_type": "stream",
     "text": [
      "from main: <__main__.Point object at 0x0000020D49A8CB50>\n"
     ]
    },
    {
     "ename": "AttributeError",
     "evalue": "'Point' object has no attribute 'anotherMethod'",
     "output_type": "error",
     "traceback": [
      "\u001b[1;31m---------------------------------------------------------------------------\u001b[0m",
      "\u001b[1;31mAttributeError\u001b[0m                            Traceback (most recent call last)",
      "Cell \u001b[1;32mIn[20], line 14\u001b[0m\n\u001b[0;32m     12\u001b[0m obj \u001b[38;5;241m=\u001b[39mPoint()  \u001b[38;5;66;03m#creating instance of class\u001b[39;00m\n\u001b[0;32m     13\u001b[0m \u001b[38;5;28mprint\u001b[39m(\u001b[38;5;124m\"\u001b[39m\u001b[38;5;124mfrom main:\u001b[39m\u001b[38;5;124m\"\u001b[39m,obj)\n\u001b[1;32m---> 14\u001b[0m \u001b[43mobj\u001b[49m\u001b[38;5;241;43m.\u001b[39;49m\u001b[43manotherMethod\u001b[49m()\n\u001b[0;32m     15\u001b[0m obj\u001b[38;5;241m.\u001b[39mshowValues(\u001b[38;5;241m13\u001b[39m,\u001b[38;5;241m14\u001b[39m)   \u001b[38;5;66;03m#obj.showValue(obj)\u001b[39;00m\n\u001b[0;32m     16\u001b[0m \u001b[38;5;66;03m#obj.anotherMethod()\u001b[39;00m\n",
      "\u001b[1;31mAttributeError\u001b[0m: 'Point' object has no attribute 'anotherMethod'"
     ]
    }
   ],
   "source": [
    "class Point:\n",
    "    def __init__(self):\n",
    "        self.x=15\n",
    "        self.y=20\n",
    "    def showValues(self,x1,y1):\n",
    "        print(\"from instance method:\",self)\n",
    "        print(\"parameter are:\",x1,y1)\n",
    "        \n",
    "        def anotherMethod(self):\n",
    "            print(f\"from another method{self.x},{self.y}\")\n",
    "\n",
    "obj =Point()  #creating instance of class\n",
    "print(\"from main:\",obj)\n",
    "obj.anotherMethod()\n",
    "obj.showValues(13,14)   #obj.showValue(obj)\n",
    "#obj.anotherMethod()"
   ]
  },
  {
   "cell_type": "code",
   "execution_count": 24,
   "id": "bc7f0c94-1825-4da2-8327-299630d7cc4a",
   "metadata": {},
   "outputs": [
    {
     "name": "stdout",
     "output_type": "stream",
     "text": [
      "<__main__.Point object at 0x0000020D49AB2390>\n"
     ]
    }
   ],
   "source": [
    "#magice method  __repr__ automatically involved when object is printed\n",
    "class Point:\n",
    "    def __init__(self,xval,yval):\n",
    "        \n",
    "        self.x= xval\n",
    "        self.y = yval\n",
    "\n",
    "    def showValues(self):\n",
    "        print(f\"x-val:{self.x},y-val:{self.y}\")\n",
    "\n",
    "    def __rep__(self):\n",
    "        return f\"x-value:{self.x},y-val{self.y}\"\n",
    "\n",
    "obj=Point(10,15)\n",
    "print(obj)\n",
    "    "
   ]
  },
  {
   "cell_type": "code",
   "execution_count": null,
   "id": "cd638d81-27e7-46c7-bb89-66041e15c638",
   "metadata": {},
   "outputs": [],
   "source": []
  }
 ],
 "metadata": {
  "kernelspec": {
   "display_name": "Python 3 (ipykernel)",
   "language": "python",
   "name": "python3"
  },
  "language_info": {
   "codemirror_mode": {
    "name": "ipython",
    "version": 3
   },
   "file_extension": ".py",
   "mimetype": "text/x-python",
   "name": "python",
   "nbconvert_exporter": "python",
   "pygments_lexer": "ipython3",
   "version": "3.11.9"
  }
 },
 "nbformat": 4,
 "nbformat_minor": 5
}
