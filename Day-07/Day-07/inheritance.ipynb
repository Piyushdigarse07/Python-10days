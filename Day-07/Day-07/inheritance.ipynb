{
 "cells": [
  {
   "cell_type": "code",
   "execution_count": null,
   "id": "13af4416-5c5b-45f5-8c38-ebb9f534d874",
   "metadata": {},
   "outputs": [],
   "source": [
    "#inhertinace in python:-\n"
   ]
  },
  {
   "cell_type": "code",
   "execution_count": 3,
   "id": "59bd39b6-e970-493e-982e-6d1650f188f9",
   "metadata": {},
   "outputs": [
    {
     "name": "stdout",
     "output_type": "stream",
     "text": [
      " from A\n"
     ]
    }
   ],
   "source": [
    "class A:\n",
    "    def printString(self):\n",
    "        print(\" from A\")\n",
    "class B(A): #\"A\" is the parent of B\n",
    "    pass   #valid statment but will not take any action\n",
    "obj= B()\n",
    "obj.printString()   #calling parent class method"
   ]
  },
  {
   "cell_type": "code",
   "execution_count": 4,
   "id": "328bf31b-d756-4110-9d21-4c35483d88e1",
   "metadata": {},
   "outputs": [
    {
     "name": "stdout",
     "output_type": "stream",
     "text": [
      "child class method\n"
     ]
    },
    {
     "ename": "AttributeError",
     "evalue": "type object 'super' has no attribute 'printString'",
     "output_type": "error",
     "traceback": [
      "\u001b[1;31m---------------------------------------------------------------------------\u001b[0m",
      "\u001b[1;31mAttributeError\u001b[0m                            Traceback (most recent call last)",
      "Cell \u001b[1;32mIn[4], line 14\u001b[0m\n\u001b[0;32m     12\u001b[0m obj\u001b[38;5;241m=\u001b[39m B()\n\u001b[0;32m     13\u001b[0m obj\u001b[38;5;241m.\u001b[39mdisplayString()\n\u001b[1;32m---> 14\u001b[0m \u001b[43mobj\u001b[49m\u001b[38;5;241;43m.\u001b[39;49m\u001b[43mprintString\u001b[49m\u001b[43m(\u001b[49m\u001b[43m)\u001b[49m\n",
      "Cell \u001b[1;32mIn[4], line 9\u001b[0m, in \u001b[0;36mB.printString\u001b[1;34m(self)\u001b[0m\n\u001b[0;32m      8\u001b[0m \u001b[38;5;28;01mdef\u001b[39;00m \u001b[38;5;21mprintString\u001b[39m(\u001b[38;5;28mself\u001b[39m):\n\u001b[1;32m----> 9\u001b[0m     \u001b[38;5;28;43msuper\u001b[39;49m\u001b[38;5;241;43m.\u001b[39;49m\u001b[43mprintString\u001b[49m()\n\u001b[0;32m     10\u001b[0m     \u001b[38;5;28mprint\u001b[39m(\u001b[38;5;124m\"\u001b[39m\u001b[38;5;124mfrom B\u001b[39m\u001b[38;5;124m\"\u001b[39m)\n",
      "\u001b[1;31mAttributeError\u001b[0m: type object 'super' has no attribute 'printString'"
     ]
    }
   ],
   "source": [
    "#method overriding - child class reimplementing parent class method\n",
    "class A:\n",
    "    def printString(self):\n",
    "        print(\" from A\")\n",
    "class B(A): #\"A\" is the parent of B\n",
    "    def displayString(self):\n",
    "        print(\"child class method\")\n",
    "    def printString(self):\n",
    "        super.printString()\n",
    "        print(\"from B\")\n",
    "    \n",
    "obj= B()\n",
    "obj.displayString()\n",
    "obj.printString()"
   ]
  },
  {
   "cell_type": "code",
   "execution_count": null,
   "id": "e0debd15-baec-4c78-8aac-86576fa4b25a",
   "metadata": {},
   "outputs": [],
   "source": [
    "# Method Resolution Order- If same method is implemented y multiple parents class and the method is not reimplemented in child class, \n",
    "#python use Method Resolutin Order to invoke the appropiate vesrsion. "
   ]
  },
  {
   "cell_type": "code",
   "execution_count": null,
   "id": "9e6b578b-f045-4530-9954-975d887b23a1",
   "metadata": {},
   "outputs": [],
   "source": []
  }
 ],
 "metadata": {
  "kernelspec": {
   "display_name": "Python 3 (ipykernel)",
   "language": "python",
   "name": "python3"
  },
  "language_info": {
   "codemirror_mode": {
    "name": "ipython",
    "version": 3
   },
   "file_extension": ".py",
   "mimetype": "text/x-python",
   "name": "python",
   "nbconvert_exporter": "python",
   "pygments_lexer": "ipython3",
   "version": "3.11.9"
  }
 },
 "nbformat": 4,
 "nbformat_minor": 5
}
