{
 "cells": [
  {
   "cell_type": "code",
   "execution_count": 1,
   "id": "a8db2d77-b534-4b68-9009-c5a2328c1f29",
   "metadata": {},
   "outputs": [
    {
     "name": "stdout",
     "output_type": "stream",
     "text": [
      "2024-07-15 09:55:28.181417\n"
     ]
    }
   ],
   "source": [
    "#date -time import-\n",
    "import datetime\n",
    "x= datetime.datetime.now()\n",
    "print(x)"
   ]
  },
  {
   "cell_type": "code",
   "execution_count": 11,
   "id": "b37fd11f-1019-4f93-8f16-e05be92f8294",
   "metadata": {},
   "outputs": [
    {
     "name": "stdout",
     "output_type": "stream",
     "text": [
      "2024\n",
      "Monday\n"
     ]
    }
   ],
   "source": [
    "\n",
    "print(x.year)\n",
    "print(x.strftime(\"%A\"))"
   ]
  },
  {
   "cell_type": "code",
   "execution_count": 3,
   "id": "f9f41c47-6d9c-47c8-a037-4c0d6da28706",
   "metadata": {},
   "outputs": [
    {
     "name": "stdout",
     "output_type": "stream",
     "text": [
      "7\n",
      "15\n"
     ]
    }
   ],
   "source": [
    "print(x.month)\n",
    "print(x.day)"
   ]
  },
  {
   "cell_type": "code",
   "execution_count": 4,
   "id": "f829f42a-7947-4e19-8e7c-b65e6ac8f9a5",
   "metadata": {},
   "outputs": [
    {
     "name": "stdout",
     "output_type": "stream",
     "text": [
      "Monday 15th July 2024\n"
     ]
    }
   ],
   "source": [
    "print(x.strftime(\"%A %dth %B %Y\"))  # to convert it into strings"
   ]
  },
  {
   "cell_type": "code",
   "execution_count": 6,
   "id": "7ded0d04-06c8-4a06-a201-7e14e9b31da3",
   "metadata": {},
   "outputs": [
    {
     "name": "stdout",
     "output_type": "stream",
     "text": [
      "2024-07-15 09:59:56.594744\n"
     ]
    }
   ],
   "source": [
    "current_time= datetime.datetime.now()\n",
    "print(current_time)"
   ]
  },
  {
   "cell_type": "code",
   "execution_count": 10,
   "id": "64a0de68-280d-472a-9629-6958e06d8828",
   "metadata": {},
   "outputs": [
    {
     "name": "stdout",
     "output_type": "stream",
     "text": [
      "2024-07-16 14:59:56.594744\n"
     ]
    }
   ],
   "source": [
    "#create time delta to add/substract with above datetime object\n",
    "hours_add= datetime.timedelta(days=1,hours=5)\n",
    "ftime= current_time+hours_add\n",
    "print(ftime)"
   ]
  },
  {
   "cell_type": "code",
   "execution_count": 22,
   "id": "e1611e2a-7f4a-4f9f-8d19-6165da1d5a2b",
   "metadata": {},
   "outputs": [
    {
     "name": "stdout",
     "output_type": "stream",
     "text": [
      "2024-07-07 00:00:00\n",
      "Sunday\n"
     ]
    }
   ],
   "source": [
    "#creating datetime\n",
    "import datetime\n",
    "p= datetime.datetime(2024,7,7,)\n",
    "print(p)\n",
    "print(p.strftime(\"%A\"))"
   ]
  },
  {
   "cell_type": "code",
   "execution_count": null,
   "id": "d385d083-1348-4d01-b637-171cbcd7f06a",
   "metadata": {},
   "outputs": [],
   "source": []
  },
  {
   "cell_type": "code",
   "execution_count": null,
   "id": "ccb6b57c-4cba-45bd-90c8-c8ef46acd3fc",
   "metadata": {},
   "outputs": [],
   "source": []
  },
  {
   "cell_type": "code",
   "execution_count": 21,
   "id": "bb55d247-fcb3-41e7-b3d5-501b9fc45e9a",
   "metadata": {},
   "outputs": [
    {
     "name": "stdout",
     "output_type": "stream",
     "text": [
      "31\n"
     ]
    }
   ],
   "source": [
    "#random modules examples\n",
    "import random\n",
    "print(random.randint(10,40)) #printing random numbers"
   ]
  },
  {
   "cell_type": "code",
   "execution_count": 25,
   "id": "e7b33dfb-d992-4857-aa64-7bb46def25c0",
   "metadata": {},
   "outputs": [
    {
     "name": "stdout",
     "output_type": "stream",
     "text": [
      "0.7819240923192892\n"
     ]
    }
   ],
   "source": [
    "#printing random float number\n",
    "print(random.random())"
   ]
  },
  {
   "cell_type": "code",
   "execution_count": 26,
   "id": "9d17c5ee-40de-4482-9ada-d4f91952eb7f",
   "metadata": {},
   "outputs": [
    {
     "name": "stdout",
     "output_type": "stream",
     "text": [
      "30\n"
     ]
    }
   ],
   "source": [
    "#genrtae a random range \n",
    "print(random.randrange(10,100,10))"
   ]
  },
  {
   "cell_type": "code",
   "execution_count": null,
   "id": "89fdcd9d-5ebc-4e19-a72c-95c93402fdff",
   "metadata": {},
   "outputs": [],
   "source": []
  }
 ],
 "metadata": {
  "kernelspec": {
   "display_name": "Python 3 (ipykernel)",
   "language": "python",
   "name": "python3"
  },
  "language_info": {
   "codemirror_mode": {
    "name": "ipython",
    "version": 3
   },
   "file_extension": ".py",
   "mimetype": "text/x-python",
   "name": "python",
   "nbconvert_exporter": "python",
   "pygments_lexer": "ipython3",
   "version": "3.11.9"
  }
 },
 "nbformat": 4,
 "nbformat_minor": 5
}
