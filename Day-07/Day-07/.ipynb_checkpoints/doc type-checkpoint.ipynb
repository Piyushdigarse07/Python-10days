{
 "cells": [
  {
   "cell_type": "code",
   "execution_count": 5,
   "id": "2d9d41f0-1bf6-47dd-86dc-dd3863b6f5fd",
   "metadata": {},
   "outputs": [
    {
     "name": "stdout",
     "output_type": "stream",
     "text": [
      "['.ipynb_checkpoints', 'contents.py', 'Day06 task.ipynb', 'Untitled.ipynb']\n"
     ]
    }
   ],
   "source": [
    "#modules\n",
    "import os\n",
    "#get file and folder in the given path\n",
    "contents= os.listdir(r\"C:\\Users\\Administrator\\Desktop\\Python_10days\\Day-07\")\n",
    "print (contents)"
   ]
  },
  {
   "cell_type": "code",
   "execution_count": 6,
   "id": "72231bab-4919-494d-83d1-9fc66451eebc",
   "metadata": {},
   "outputs": [
    {
     "name": "stdout",
     "output_type": "stream",
     "text": [
      "os.stat_result(st_mode=16895, st_ino=14355223812326934, st_dev=2891986985, st_nlink=1, st_uid=0, st_gid=0, st_size=4096, st_atime=1721015119, st_mtime=1721015119, st_ctime=1721014293)\n"
     ]
    }
   ],
   "source": [
    "# get metadata of a file\n",
    "filepath= os.path.join(r'C:\\Users\\Administrator\\Desktop\\Python_10days\\Day-07')\n",
    "print(os.stat(filepath))"
   ]
  },
  {
   "cell_type": "code",
   "execution_count": 8,
   "id": "a7d0b39e-2c26-4c0d-a4c5-8aadd3cc9134",
   "metadata": {},
   "outputs": [
    {
     "name": "stdout",
     "output_type": "stream",
     "text": [
      "the current directory is: C:\\Users\\Administrator\\Desktop\\Python_10days\\Day-07\n"
     ]
    }
   ],
   "source": [
    "cwd =os.getcwd()\n",
    "print(\"the current directory is:\",cwd)"
   ]
  },
  {
   "cell_type": "code",
   "execution_count": 11,
   "id": "8527a13a-3a21-412c-a7bf-5561cce4c143",
   "metadata": {},
   "outputs": [],
   "source": [
    "import sys"
   ]
  },
  {
   "cell_type": "code",
   "execution_count": 12,
   "id": "dd669144-4e89-419e-b19d-3d390143b2da",
   "metadata": {},
   "outputs": [
    {
     "name": "stdout",
     "output_type": "stream",
     "text": [
      "the word entered is: \n"
     ]
    }
   ],
   "source": [
    "print(\"the word entered are:\",sys.stdin.readline()[:-1])"
   ]
  },
  {
   "cell_type": "code",
   "execution_count": 13,
   "id": "6a626e58-d774-4cb5-a041-d6f73ef60bf6",
   "metadata": {},
   "outputs": [
    {
     "ename": "UnsupportedOperation",
     "evalue": "not writable",
     "output_type": "error",
     "traceback": [
      "\u001b[1;31m---------------------------------------------------------------------------\u001b[0m",
      "\u001b[1;31mUnsupportedOperation\u001b[0m                      Traceback (most recent call last)",
      "Cell \u001b[1;32mIn[13], line 1\u001b[0m\n\u001b[1;32m----> 1\u001b[0m \u001b[43msys\u001b[49m\u001b[38;5;241;43m.\u001b[39;49m\u001b[43mstdin\u001b[49m\u001b[38;5;241;43m.\u001b[39;49m\u001b[43mwrite\u001b[49m\u001b[43m \u001b[49m\u001b[43m(\u001b[49m\u001b[38;5;124;43m\"\u001b[39;49m\u001b[38;5;124;43msendin to terminal usuing sys module\u001b[39;49m\u001b[38;5;124;43m\"\u001b[39;49m\u001b[43m)\u001b[49m\n",
      "\u001b[1;31mUnsupportedOperation\u001b[0m: not writable"
     ]
    }
   ],
   "source": [
    "sys.stdin.write (\"sendin to terminal usuing sys module\")"
   ]
  },
  {
   "cell_type": "code",
   "execution_count": 14,
   "id": "e2ac6178-ee80-4c3a-ae57-03ccdd80f97d",
   "metadata": {},
   "outputs": [
    {
     "name": "stdout",
     "output_type": "stream",
     "text": [
      "['C:\\\\Users\\\\Administrator\\\\AppData\\\\Local\\\\Programs\\\\Python\\\\Python311\\\\python311.zip', 'C:\\\\Users\\\\Administrator\\\\AppData\\\\Local\\\\Programs\\\\Python\\\\Python311\\\\DLLs', 'C:\\\\Users\\\\Administrator\\\\AppData\\\\Local\\\\Programs\\\\Python\\\\Python311\\\\Lib', 'C:\\\\Users\\\\Administrator\\\\AppData\\\\Local\\\\Programs\\\\Python\\\\Python311', '', 'C:\\\\Users\\\\Administrator\\\\AppData\\\\Local\\\\Programs\\\\Python\\\\Python311\\\\Lib\\\\site-packages', 'C:\\\\Users\\\\Administrator\\\\AppData\\\\Local\\\\Programs\\\\Python\\\\Python311\\\\Lib\\\\site-packages\\\\win32', 'C:\\\\Users\\\\Administrator\\\\AppData\\\\Local\\\\Programs\\\\Python\\\\Python311\\\\Lib\\\\site-packages\\\\win32\\\\lib', 'C:\\\\Users\\\\Administrator\\\\AppData\\\\Local\\\\Programs\\\\Python\\\\Python311\\\\Lib\\\\site-packages\\\\Pythonwin']\n"
     ]
    }
   ],
   "source": [
    "import sys \n",
    "print(sys.path)"
   ]
  },
  {
   "cell_type": "code",
   "execution_count": 15,
   "id": "72c61a7f-60df-451f-9959-9df172190a89",
   "metadata": {},
   "outputs": [
    {
     "name": "stdout",
     "output_type": "stream",
     "text": [
      "hello Piyus\n"
     ]
    }
   ],
   "source": [
    "print(\"hello Piyus\")"
   ]
  },
  {
   "cell_type": "code",
   "execution_count": 18,
   "id": "bdc6792d-e8b8-4551-89ec-304d85ffb331",
   "metadata": {},
   "outputs": [],
   "source": [
    "saveout = sys.stdout\n",
    "fsok = open(\"message.log\",\"w\")\n",
    "sys.stdout = fsok"
   ]
  },
  {
   "cell_type": "code",
   "execution_count": 19,
   "id": "152d0e24-9ca2-4731-8f4c-6a868632392f",
   "metadata": {},
   "outputs": [],
   "source": [
    "print(\"fiest line sent to message .log\")"
   ]
  },
  {
   "cell_type": "code",
   "execution_count": null,
   "id": "a3debf53-4be2-4531-8ffb-77bd3fcc7129",
   "metadata": {},
   "outputs": [],
   "source": []
  }
 ],
 "metadata": {
  "kernelspec": {
   "display_name": "Python 3 (ipykernel)",
   "language": "python",
   "name": "python3"
  },
  "language_info": {
   "codemirror_mode": {
    "name": "ipython",
    "version": 3
   },
   "file_extension": ".py",
   "mimetype": "text/x-python",
   "name": "python",
   "nbconvert_exporter": "python",
   "pygments_lexer": "ipython3",
   "version": "3.11.9"
  }
 },
 "nbformat": 4,
 "nbformat_minor": 5
}
