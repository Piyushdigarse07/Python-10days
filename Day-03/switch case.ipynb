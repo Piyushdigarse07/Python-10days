{
 "cells": [
  {
   "cell_type": "code",
   "execution_count": 1,
   "id": "8b18d58c-4096-474e-9dce-d81fdca2778d",
   "metadata": {},
   "outputs": [
    {
     "name": "stdout",
     "output_type": "stream",
     "text": [
      "pyhton 10 days\n"
     ]
    }
   ],
   "source": [
    "print(\"pyhton 10 days\")"
   ]
  },
  {
   "cell_type": "code",
   "execution_count": 2,
   "id": "6a1ac358-07ed-4f33-bfb3-9af2f34cb078",
   "metadata": {},
   "outputs": [],
   "source": [
    "#switch case\n",
    "#if , elif, else,"
   ]
  },
  {
   "cell_type": "code",
   "execution_count": 3,
   "id": "eeccc42f-b4a9-4548-8929-54f1b672ba03",
   "metadata": {},
   "outputs": [
    {
     "name": "stdout",
     "output_type": "stream",
     "text": [
      "[10, 20, 'piyush', 'happy']\n"
     ]
    }
   ],
   "source": [
    "#list\n",
    "list=[10,20,'piyush','happy']\n",
    "print(list)"
   ]
  },
  {
   "cell_type": "code",
   "execution_count": 4,
   "id": "ad0ea8c5-783e-4b2b-bbbd-5d86ef939fb9",
   "metadata": {},
   "outputs": [
    {
     "name": "stdout",
     "output_type": "stream",
     "text": [
      "piyush\n"
     ]
    }
   ],
   "source": [
    "print(list[2])"
   ]
  },
  {
   "cell_type": "code",
   "execution_count": 7,
   "id": "3c99f572-4dd2-4846-903c-f8c69eb3be57",
   "metadata": {},
   "outputs": [
    {
     "name": "stdout",
     "output_type": "stream",
     "text": [
      "<class 'list'>\n"
     ]
    }
   ],
   "source": [
    "print(type(list)) #printing the type of data structure"
   ]
  },
  {
   "cell_type": "code",
   "execution_count": 8,
   "id": "cae232f3-b493-4c74-b796-c63d9b67dce4",
   "metadata": {},
   "outputs": [
    {
     "name": "stdout",
     "output_type": "stream",
     "text": [
      "piyush\n"
     ]
    }
   ],
   "source": [
    "print(list[-2]) #accessing element from end of list"
   ]
  },
  {
   "cell_type": "code",
   "execution_count": 9,
   "id": "820e82a6-3c2f-4b22-b970-907fea3f053e",
   "metadata": {},
   "outputs": [
    {
     "name": "stdout",
     "output_type": "stream",
     "text": [
      "[20, 'piyush']\n"
     ]
    }
   ],
   "source": [
    "print(list[1:3])"
   ]
  },
  {
   "cell_type": "code",
   "execution_count": 10,
   "id": "19f21631-1c6f-4568-9176-171045c49b90",
   "metadata": {},
   "outputs": [
    {
     "name": "stdout",
     "output_type": "stream",
     "text": [
      "[10, 20, 'piyush', 'happy']\n"
     ]
    }
   ],
   "source": [
    "print(list[0:4])"
   ]
  },
  {
   "cell_type": "code",
   "execution_count": 11,
   "id": "84546cda-d8c9-4625-99b8-803e02b7b787",
   "metadata": {},
   "outputs": [
    {
     "name": "stdout",
     "output_type": "stream",
     "text": [
      "[10, 20, 'piyush']\n"
     ]
    }
   ],
   "source": [
    "print(list[:-1])"
   ]
  },
  {
   "cell_type": "code",
   "execution_count": 12,
   "id": "35b4cac8-a6fe-4451-80bd-fb559ffae067",
   "metadata": {},
   "outputs": [
    {
     "name": "stdout",
     "output_type": "stream",
     "text": [
      "[1, 3, 68]\n"
     ]
    }
   ],
   "source": [
    "#extended slicing\n",
    "#[start:end:step]\n",
    "list1=[1,2,3,5,68,4]\n",
    "print(list1[0:6:2])"
   ]
  },
  {
   "cell_type": "code",
   "execution_count": 13,
   "id": "d151ad92-1158-4c93-8df2-e97545516894",
   "metadata": {},
   "outputs": [
    {
     "name": "stdout",
     "output_type": "stream",
     "text": [
      "[4, 68, 5, 3, 2, 1]\n"
     ]
    }
   ],
   "source": [
    "print(list1[::-1])  #printing the ist in reverse order."
   ]
  },
  {
   "cell_type": "code",
   "execution_count": 15,
   "id": "56176ff9-823a-4c10-8fa0-dcaf28304481",
   "metadata": {},
   "outputs": [
    {
     "name": "stdout",
     "output_type": "stream",
     "text": [
      "[2, 4, 6, 8, 'q', 'w', 'e']\n"
     ]
    }
   ],
   "source": [
    "#concatante list\n",
    "l1=[2,4,6,8]\n",
    "l2=['q','w','e']\n",
    "l3=l1+l2\n",
    "print(l3)"
   ]
  },
  {
   "cell_type": "code",
   "execution_count": 17,
   "id": "1821113e-02f9-4795-8c29-e043c731790d",
   "metadata": {},
   "outputs": [
    {
     "name": "stdout",
     "output_type": "stream",
     "text": [
      "[2, 4, 6, 8, 'q', 'w', 'e', 2, 4, 6, 8, 'q', 'w', 'e']\n"
     ]
    }
   ],
   "source": [
    "#multiply a list by using * operator\n",
    "print(l3*2)"
   ]
  },
  {
   "cell_type": "code",
   "execution_count": 19,
   "id": "2c02c58a-9260-4b11-bc73-fae225f76dfd",
   "metadata": {},
   "outputs": [],
   "source": [
    "#copying list\n",
    "list1=[2,3,4,5,6]\n",
    "list2=list1[:]"
   ]
  },
  {
   "cell_type": "code",
   "execution_count": 20,
   "id": "16306c63-5747-4ff3-b7fb-20677d3fd259",
   "metadata": {},
   "outputs": [
    {
     "name": "stdout",
     "output_type": "stream",
     "text": [
      "[2, 3, 4, 5, 6]\n"
     ]
    }
   ],
   "source": [
    "print(list2)"
   ]
  },
  {
   "cell_type": "code",
   "execution_count": 21,
   "id": "5301ee6f-96a2-4785-8956-e24dade51103",
   "metadata": {},
   "outputs": [
    {
     "ename": "SyntaxError",
     "evalue": "invalid syntax (1080812607.py, line 1)",
     "output_type": "error",
     "traceback": [
      "\u001b[1;36m  Cell \u001b[1;32mIn[21], line 1\u001b[1;36m\u001b[0m\n\u001b[1;33m    print(\"reference of list1\",id.(list1))\u001b[0m\n\u001b[1;37m                                  ^\u001b[0m\n\u001b[1;31mSyntaxError\u001b[0m\u001b[1;31m:\u001b[0m invalid syntax\n"
     ]
    }
   ],
   "source": [
    "print(\"reference of list1\",id.(list1))"
   ]
  },
  {
   "cell_type": "code",
   "execution_count": 23,
   "id": "a3194821-8295-4747-9bac-7c3dfcb8eeff",
   "metadata": {},
   "outputs": [
    {
     "name": "stdin",
     "output_type": "stream",
     "text": [
      "enter the number -4\n"
     ]
    },
    {
     "name": "stdout",
     "output_type": "stream",
     "text": [
      "negative\n"
     ]
    }
   ],
   "source": [
    "n=int(input(\"enter the number\"))\n",
    "print(\"positive\") if n>0 else print(\"negative\")  #ternanry operation"
   ]
  },
  {
   "cell_type": "code",
   "execution_count": 25,
   "id": "dbb0ce1e-11b2-49df-b5a7-27922c0dcf01",
   "metadata": {},
   "outputs": [
    {
     "name": "stdout",
     "output_type": "stream",
     "text": [
      "yes\n"
     ]
    }
   ],
   "source": [
    "s=\"madam\" #\n",
    "print(\"yes\") if s==s [::-1] else print(\"no\") #checking palindrom"
   ]
  },
  {
   "cell_type": "code",
   "execution_count": 29,
   "id": "4b748803-51d1-42d5-9959-44662970c4c5",
   "metadata": {},
   "outputs": [
    {
     "name": "stdout",
     "output_type": "stream",
     "text": [
      "yes\n"
     ]
    }
   ],
   "source": [
    "str=\"bob\"\n",
    "print(\"yes\") if str==str [::-1] else print(\"no\")"
   ]
  },
  {
   "cell_type": "code",
   "execution_count": 33,
   "id": "6a747f60-6cc7-4ac6-a01b-b10269d362e0",
   "metadata": {},
   "outputs": [],
   "source": [
    "#list method to add elements \n",
    "#append\n",
    "#exteend\n",
    "#insert\n",
    "list1=[10,20,30,40]\n",
    "list1.append(50) #can only append single element in the lsit"
   ]
  },
  {
   "cell_type": "code",
   "execution_count": 34,
   "id": "4ff3dfaa-0213-443f-9f1a-9803a0607d25",
   "metadata": {},
   "outputs": [
    {
     "name": "stdout",
     "output_type": "stream",
     "text": [
      "[10, 20, 30, 40, 50]\n"
     ]
    }
   ],
   "source": [
    "print(list1)"
   ]
  },
  {
   "cell_type": "code",
   "execution_count": 35,
   "id": "d0955cc9-28af-452f-92db-c4194977e19b",
   "metadata": {},
   "outputs": [
    {
     "ename": "TypeError",
     "evalue": "'int' object is not iterable",
     "output_type": "error",
     "traceback": [
      "\u001b[1;31m---------------------------------------------------------------------------\u001b[0m",
      "\u001b[1;31mTypeError\u001b[0m                                 Traceback (most recent call last)",
      "Cell \u001b[1;32mIn[35], line 3\u001b[0m\n\u001b[0;32m      1\u001b[0m \u001b[38;5;66;03m#extend-\u001b[39;00m\n\u001b[0;32m      2\u001b[0m list1\u001b[38;5;241m=\u001b[39m[\u001b[38;5;241m10\u001b[39m,\u001b[38;5;241m20\u001b[39m,\u001b[38;5;241m30\u001b[39m,\u001b[38;5;241m40\u001b[39m]\n\u001b[1;32m----> 3\u001b[0m \u001b[43mlist1\u001b[49m\u001b[38;5;241;43m.\u001b[39;49m\u001b[43mextend\u001b[49m\u001b[43m(\u001b[49m\u001b[38;5;241;43m60\u001b[39;49m\u001b[43m)\u001b[49m\n",
      "\u001b[1;31mTypeError\u001b[0m: 'int' object is not iterable"
     ]
    }
   ],
   "source": [
    "#extend-\n",
    "list1=[10,20,30,40]\n",
    "list1.extend(60)"
   ]
  },
  {
   "cell_type": "code",
   "execution_count": 36,
   "id": "4e8939e3-615b-458b-ad28-b605aed300a0",
   "metadata": {},
   "outputs": [
    {
     "name": "stdout",
     "output_type": "stream",
     "text": [
      "[10, 20, 30, 40, 60, 70]\n"
     ]
    }
   ],
   "source": [
    "list1.extend((60,70))\n",
    "print(list1) #sequence as an argument"
   ]
  },
  {
   "cell_type": "code",
   "execution_count": 37,
   "id": "7cf883c9-b090-4dd4-bb4c-e86d920b2abf",
   "metadata": {},
   "outputs": [],
   "source": [
    "list1=[10,20,30,40]\n",
    "list1.append((60,70)) #tuple is added as inner element"
   ]
  },
  {
   "cell_type": "code",
   "execution_count": 38,
   "id": "d192521a-af31-410f-ba93-0cecb12d7747",
   "metadata": {
    "scrolled": true
   },
   "outputs": [
    {
     "name": "stdout",
     "output_type": "stream",
     "text": [
      "[10, 20, 30, 40, (60, 70)]\n"
     ]
    }
   ],
   "source": [
    "print(list1) "
   ]
  },
  {
   "cell_type": "code",
   "execution_count": null,
   "id": "d952eaab-a339-450b-89af-5301c28df535",
   "metadata": {},
   "outputs": [],
   "source": [
    "#append- takes any python object as argument and add the elements to the end of list and list increament is done by 1.\n",
    "        # does not accept multiple value.\n",
    "#extend-"
   ]
  },
  {
   "cell_type": "code",
   "execution_count": 40,
   "id": "7667e8b0-ce88-4b32-b9ad-38d3bf1e4f10",
   "metadata": {},
   "outputs": [
    {
     "name": "stdout",
     "output_type": "stream",
     "text": [
      "[10, 20, 50, 30, 40]\n"
     ]
    }
   ],
   "source": [
    "#insert- takes 2 parameter(index,value)\n",
    "#  index\n",
    "#value\n",
    "list1=[10,20,30,40]\n",
    "list1.insert(2,50)\n",
    "print(list1)\n"
   ]
  },
  {
   "cell_type": "code",
   "execution_count": 42,
   "id": "3c14adb0-648b-46cc-8796-8db51e3035f4",
   "metadata": {},
   "outputs": [
    {
     "name": "stdout",
     "output_type": "stream",
     "text": [
      "[2, 4, 5, 6, ['hello']]\n"
     ]
    }
   ],
   "source": [
    "l1=[2,4,5,6]\n",
    "l2=[\"hello\"]\n",
    "l1.append(l2)\n",
    "print(l1)"
   ]
  },
  {
   "cell_type": "code",
   "execution_count": 44,
   "id": "b1f5e3a5-4323-4d36-b1f2-33cb06eb4905",
   "metadata": {},
   "outputs": [
    {
     "name": "stdout",
     "output_type": "stream",
     "text": [
      "(10, 20, [30, 40, 60], 50)\n"
     ]
    }
   ],
   "source": [
    "t1=(10,20,[30,40],50)\n",
    "t1[2].append(60)  \n",
    "print(t1)"
   ]
  },
  {
   "cell_type": "code",
   "execution_count": null,
   "id": "3ae9a1a0-ed12-47f7-b26b-1948f3f63a0e",
   "metadata": {},
   "outputs": [],
   "source": [
    "#methods to remove element from a list\n",
    "#pop- removes the last element, if argument is not passed ,pop has return value\n",
    "#     -removes elemnts at fixed index if the argument is passed.\n",
    "\n",
    "#remove - takes value as argument and removes the value\n",
    "#clear- removes all the elemnts from the list"
   ]
  },
  {
   "cell_type": "code",
   "execution_count": 45,
   "id": "ab7c45de-069d-4e2a-b1ea-b3f78930b09e",
   "metadata": {},
   "outputs": [
    {
     "name": "stdout",
     "output_type": "stream",
     "text": [
      "40\n"
     ]
    }
   ],
   "source": [
    "list1=[10,20,30,40]\n",
    "element = list1.pop() #when argument is not passed\n",
    "print(element)"
   ]
  },
  {
   "cell_type": "code",
   "execution_count": 46,
   "id": "dc0ab284-34e5-451c-96ad-f7d0e068ae0e",
   "metadata": {},
   "outputs": [
    {
     "name": "stdout",
     "output_type": "stream",
     "text": [
      "40\n"
     ]
    }
   ],
   "source": [
    "list1=[10,20,30,40]\n",
    "element= list1.pop(3)\n",
    "print(element)"
   ]
  },
  {
   "cell_type": "code",
   "execution_count": 47,
   "id": "32fa63f1-1f0b-45be-8ff0-bc10f0b040a9",
   "metadata": {},
   "outputs": [
    {
     "name": "stdout",
     "output_type": "stream",
     "text": [
      "size of list 3\n"
     ]
    }
   ],
   "source": [
    "#len- used to find the size of list\n",
    "print(\"size of list\",len(list1))"
   ]
  },
  {
   "cell_type": "code",
   "execution_count": 48,
   "id": "0c532c1e-51cb-4149-b498-269ec3b041fc",
   "metadata": {},
   "outputs": [
    {
     "name": "stdout",
     "output_type": "stream",
     "text": [
      "[10, 30, 40, 50]\n"
     ]
    }
   ],
   "source": [
    "list1=[10,20,30,40,50]\n",
    "list1.remove(20)\n",
    "print(list1)"
   ]
  },
  {
   "cell_type": "code",
   "execution_count": 49,
   "id": "5e4b9388-7f77-4483-bb04-ec836ce09a65",
   "metadata": {},
   "outputs": [
    {
     "name": "stdout",
     "output_type": "stream",
     "text": [
      "[]\n"
     ]
    }
   ],
   "source": [
    "list1=[10,20,30,40,50]\n",
    "list1.clear()\n",
    "print(list1)"
   ]
  },
  {
   "cell_type": "code",
   "execution_count": null,
   "id": "be169b73-a30e-4383-a28b-44a2937051e4",
   "metadata": {},
   "outputs": [],
   "source": []
  }
 ],
 "metadata": {
  "kernelspec": {
   "display_name": "Python 3 (ipykernel)",
   "language": "python",
   "name": "python3"
  },
  "language_info": {
   "codemirror_mode": {
    "name": "ipython",
    "version": 3
   },
   "file_extension": ".py",
   "mimetype": "text/x-python",
   "name": "python",
   "nbconvert_exporter": "python",
   "pygments_lexer": "ipython3",
   "version": "3.11.9"
  }
 },
 "nbformat": 4,
 "nbformat_minor": 5
}
