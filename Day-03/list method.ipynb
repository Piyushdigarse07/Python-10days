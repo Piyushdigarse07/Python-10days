{
 "cells": [
  {
   "cell_type": "code",
   "execution_count": null,
   "id": "a93c9ad5-92db-4b71-af60-1a5e2076aa92",
   "metadata": {},
   "outputs": [],
   "source": [
    "#method to sort the list"
   ]
  },
  {
   "cell_type": "code",
   "execution_count": 2,
   "id": "846c06ed-bea4-4d70-a2d9-b643f6e02154",
   "metadata": {},
   "outputs": [
    {
     "name": "stdout",
     "output_type": "stream",
     "text": [
      "[20, 90, 87, 56, 13, 2]\n",
      "list after sorting [2, 13, 20, 56, 87, 90]\n"
     ]
    }
   ],
   "source": [
    "list1=[20,90,87,56,13,2]\n",
    "print(list1)\n",
    "list1.sort()\n",
    "print(\"list after sorting\",list1)"
   ]
  },
  {
   "cell_type": "raw",
   "id": "9e2556bc-1c7c-4b40-bbd2-1834e618b865",
   "metadata": {},
   "source": [
    "we can also use .sorted()-method to sort the lsit"
   ]
  },
  {
   "cell_type": "code",
   "execution_count": 5,
   "id": "8b41b954-e51c-4203-b907-5d44c5a5fc6d",
   "metadata": {},
   "outputs": [
    {
     "name": "stdout",
     "output_type": "stream",
     "text": [
      "[2, 7, 10, 46, 90]\n"
     ]
    }
   ],
   "source": [
    "li3=[10,2,90,46,7]\n",
    "li=sorted(li3)\n",
    "print(li)   #sorted"
   ]
  },
  {
   "cell_type": "code",
   "execution_count": 6,
   "id": "30bffc1c-3a0b-42d5-b86c-753b826905de",
   "metadata": {},
   "outputs": [
    {
     "name": "stdout",
     "output_type": "stream",
     "text": [
      "[20, 90, 87, 56, 13, 2]\n",
      "list after sorting [90, 87, 56, 20, 13, 2]\n"
     ]
    }
   ],
   "source": [
    "list1=[20,90,87,56,13,2]\n",
    "print(list1)\n",
    "list1.sort(reverse =True)       #sorting list in reverse order\n",
    "print(\"list after sorting\",list1)"
   ]
  },
  {
   "cell_type": "code",
   "execution_count": null,
   "id": "56906368-3bfb-4923-9788-eda0667be939",
   "metadata": {},
   "outputs": [],
   "source": [
    "#enumrate- takes a sequence as argument and returns 2 value ,index and values"
   ]
  },
  {
   "cell_type": "code",
   "execution_count": 11,
   "id": "b6156528-f118-4337-96ec-bd9b57e2110d",
   "metadata": {},
   "outputs": [
    {
     "name": "stdout",
     "output_type": "stream",
     "text": [
      "apple\n",
      "sleep\n",
      "eat\n"
     ]
    }
   ],
   "source": [
    "list1=[\"apple\",\"sleep\",\"eat\"]\n",
    "for ele in list1 :\n",
    "    print(ele)"
   ]
  },
  {
   "cell_type": "code",
   "execution_count": null,
   "id": "bccb5a13-10ba-4cbf-b655-8c9e3d8bda53",
   "metadata": {},
   "outputs": [],
   "source": []
  },
  {
   "cell_type": "code",
   "execution_count": null,
   "id": "874247b2-f6b6-47e0-93cc-c02915d63147",
   "metadata": {},
   "outputs": [],
   "source": []
  },
  {
   "cell_type": "code",
   "execution_count": null,
   "id": "165790f0-4137-4c5d-8062-a9ee297434ca",
   "metadata": {},
   "outputs": [],
   "source": []
  },
  {
   "cell_type": "code",
   "execution_count": null,
   "id": "03f2f292-c756-45fa-8f4f-eca64e35e434",
   "metadata": {},
   "outputs": [],
   "source": []
  }
 ],
 "metadata": {
  "kernelspec": {
   "display_name": "Python 3 (ipykernel)",
   "language": "python",
   "name": "python3"
  },
  "language_info": {
   "codemirror_mode": {
    "name": "ipython",
    "version": 3
   },
   "file_extension": ".py",
   "mimetype": "text/x-python",
   "name": "python",
   "nbconvert_exporter": "python",
   "pygments_lexer": "ipython3",
   "version": "3.11.9"
  }
 },
 "nbformat": 4,
 "nbformat_minor": 5
}
