{
 "cells": [
  {
   "cell_type": "code",
   "execution_count": null,
   "id": "46c396b9-3591-45e1-8009-b03ea1a25362",
   "metadata": {},
   "outputs": [],
   "source": [
    "#function in python\n",
    "# in python function is decleared using def and need to pass the parameter"
   ]
  },
  {
   "cell_type": "code",
   "execution_count": 1,
   "id": "7d2fc50a-ce39-4107-a29c-74c6d09554af",
   "metadata": {},
   "outputs": [],
   "source": [
    "def echo(n):  #n is required parameter\n",
    "    print(n)"
   ]
  },
  {
   "cell_type": "code",
   "execution_count": 8,
   "id": "d46cff49-7448-4a62-80b7-44aeff1b575c",
   "metadata": {},
   "outputs": [],
   "source": [
    "#parameter in function call are considered keywords\n",
    "def display(name,age):\n",
    "    print(\"name:{}\".formate(name))\n",
    "    print(\"age:{}\".formate(age))\n"
   ]
  },
  {
   "cell_type": "code",
   "execution_count": 9,
   "id": "d00c0e8f-0aaa-4a77-9876-ce6ba5ff1ac9",
   "metadata": {},
   "outputs": [
    {
     "ename": "AttributeError",
     "evalue": "'str' object has no attribute 'formate'",
     "output_type": "error",
     "traceback": [
      "\u001b[1;31m---------------------------------------------------------------------------\u001b[0m",
      "\u001b[1;31mAttributeError\u001b[0m                            Traceback (most recent call last)",
      "Cell \u001b[1;32mIn[9], line 2\u001b[0m\n\u001b[0;32m      1\u001b[0m \u001b[38;5;66;03m#passing parameter in same order\u001b[39;00m\n\u001b[1;32m----> 2\u001b[0m \u001b[43mdisplay\u001b[49m\u001b[43m(\u001b[49m\u001b[38;5;124;43m\"\u001b[39;49m\u001b[38;5;124;43mpiyush\u001b[39;49m\u001b[38;5;124;43m\"\u001b[39;49m\u001b[43m,\u001b[49m\u001b[38;5;241;43m24\u001b[39;49m\u001b[43m)\u001b[49m\n",
      "Cell \u001b[1;32mIn[8], line 3\u001b[0m, in \u001b[0;36mdisplay\u001b[1;34m(name, age)\u001b[0m\n\u001b[0;32m      2\u001b[0m \u001b[38;5;28;01mdef\u001b[39;00m \u001b[38;5;21mdisplay\u001b[39m(name,age):\n\u001b[1;32m----> 3\u001b[0m     \u001b[38;5;28mprint\u001b[39m(\u001b[38;5;124;43m\"\u001b[39;49m\u001b[38;5;124;43mname:\u001b[39;49m\u001b[38;5;132;43;01m{}\u001b[39;49;00m\u001b[38;5;124;43m\"\u001b[39;49m\u001b[38;5;241;43m.\u001b[39;49m\u001b[43mformate\u001b[49m(name))\n\u001b[0;32m      4\u001b[0m     \u001b[38;5;28mprint\u001b[39m(\u001b[38;5;124m\"\u001b[39m\u001b[38;5;124mage:\u001b[39m\u001b[38;5;132;01m{}\u001b[39;00m\u001b[38;5;124m\"\u001b[39m\u001b[38;5;241m.\u001b[39mformate(age))\n",
      "\u001b[1;31mAttributeError\u001b[0m: 'str' object has no attribute 'formate'"
     ]
    }
   ],
   "source": [
    "#passing parameter in same order\n",
    "display(\"piyush\",24)"
   ]
  },
  {
   "cell_type": "code",
   "execution_count": 15,
   "id": "c33f8621-ee38-46a3-b371-41a86ad95d9e",
   "metadata": {},
   "outputs": [],
   "source": [
    "def cali(p,n,r=12):\n",
    "    return p*n*r/100"
   ]
  },
  {
   "cell_type": "code",
   "execution_count": 16,
   "id": "90779f53-a0fc-4c78-8ab6-d68e7cdf32e0",
   "metadata": {},
   "outputs": [
    {
     "name": "stdout",
     "output_type": "stream",
     "text": [
      "360.0\n"
     ]
    }
   ],
   "source": [
    "total=cali(1000,3)\n",
    "print(total)"
   ]
  },
  {
   "cell_type": "code",
   "execution_count": 12,
   "id": "283c9fb6-b19a-49a6-a85f-323a517085e6",
   "metadata": {},
   "outputs": [
    {
     "name": "stdout",
     "output_type": "stream",
     "text": [
      "__main__\n"
     ]
    }
   ],
   "source": [
    "print(__name__)"
   ]
  },
  {
   "cell_type": "code",
   "execution_count": null,
   "id": "17332d26-2ba8-4ba9-9d06-46e36475dde3",
   "metadata": {},
   "outputs": [],
   "source": [
    "#any number of argument can be passed in function\n",
    "\n",
    "#'*' -accepts multiple values"
   ]
  },
  {
   "cell_type": "code",
   "execution_count": 17,
   "id": "54fd10a3-7a8c-485f-966d-786d269fb33c",
   "metadata": {},
   "outputs": [
    {
     "name": "stdout",
     "output_type": "stream",
     "text": [
      "10 20 [30, 40, 50]\n"
     ]
    }
   ],
   "source": [
    "a,b,*c=[10,20,30,40,50]\n",
    "print(a,b,c)"
   ]
  },
  {
   "cell_type": "code",
   "execution_count": 18,
   "id": "7d1b9880-7ffd-428f-8d75-2ee494036a1e",
   "metadata": {},
   "outputs": [
    {
     "ename": "NameError",
     "evalue": "name 'find_max' is not defined",
     "output_type": "error",
     "traceback": [
      "\u001b[1;31m---------------------------------------------------------------------------\u001b[0m",
      "\u001b[1;31mNameError\u001b[0m                                 Traceback (most recent call last)",
      "Cell \u001b[1;32mIn[18], line 1\u001b[0m\n\u001b[1;32m----> 1\u001b[0m \u001b[43mfind_max\u001b[49m(\u001b[38;5;241m10\u001b[39m,\u001b[38;5;241m12\u001b[39m,\u001b[38;5;241m5\u001b[39m,\u001b[38;5;241m7\u001b[39m,\u001b[38;5;241m91\u001b[39m,\u001b[38;5;241m23\u001b[39m)\n\u001b[0;32m      2\u001b[0m find_max(\u001b[38;5;241m10\u001b[39m,\u001b[38;5;241m12\u001b[39m,\u001b[38;5;241m5\u001b[39m,\u001b[38;5;241m7\u001b[39m,\u001b[38;5;241m91\u001b[39m,\u001b[38;5;241m23\u001b[39m,\u001b[38;5;241m82\u001b[39m,\u001b[38;5;241m120\u001b[39m,\u001b[38;5;241m31\u001b[39m,\u001b[38;5;241m45\u001b[39m,\u001b[38;5;241m62\u001b[39m)\n\u001b[0;32m      3\u001b[0m \u001b[38;5;28;01mdef\u001b[39;00m \u001b[38;5;21mfind_max\u001b[39m(\u001b[38;5;241m*\u001b[39margs):\n",
      "\u001b[1;31mNameError\u001b[0m: name 'find_max' is not defined"
     ]
    }
   ],
   "source": [
    "find_max(10,12,5,7,91,23)\n",
    "find_max(10,12,5,7,91,23,82,120,31,45,62)\n",
    "def find_max(*args):\n",
    "    print(args)"
   ]
  },
  {
   "cell_type": "code",
   "execution_count": 21,
   "id": "47d0fc56-3e99-414f-a3e5-95373f35e561",
   "metadata": {},
   "outputs": [
    {
     "name": "stdout",
     "output_type": "stream",
     "text": [
      "helo\n"
     ]
    }
   ],
   "source": [
    "def my_function():\n",
    "    print(\"hello\")\n",
    "my_function()   #to excuted function you need to call function name"
   ]
  },
  {
   "cell_type": "code",
   "execution_count": null,
   "id": "350df6a7-17ac-45c3-aca8-63f27280597e",
   "metadata": {},
   "outputs": [],
   "source": [
    "#we can pass a data in function, known as parameter.....it can return data as a result"
   ]
  },
  {
   "cell_type": "code",
   "execution_count": 22,
   "id": "41786338-bd8e-4b88-827f-27ca54237a64",
   "metadata": {},
   "outputs": [
    {
     "name": "stdout",
     "output_type": "stream",
     "text": [
      "EmailPiyush\n",
      "AddressPiyush\n"
     ]
    }
   ],
   "source": [
    "#arguments- we can add as many argument \n",
    "def my_function(fname):  #passing agrument\n",
    "    print(fname+\"Piyush\")\n",
    "my_function(\"Email\")\n",
    "my_function(\"Address\")  #calling function with required argument(args)."
   ]
  },
  {
   "cell_type": "code",
   "execution_count": null,
   "id": "865b742d-1e9b-4df8-8f12-eddaff2ab738",
   "metadata": {},
   "outputs": [],
   "source": []
  },
  {
   "cell_type": "code",
   "execution_count": null,
   "id": "10351e8f-7898-42d8-8fb4-346f896b3971",
   "metadata": {},
   "outputs": [],
   "source": []
  },
  {
   "cell_type": "code",
   "execution_count": null,
   "id": "91012de2-ee75-4b48-8f22-de3119000d67",
   "metadata": {},
   "outputs": [],
   "source": []
  }
 ],
 "metadata": {
  "kernelspec": {
   "display_name": "Python 3 (ipykernel)",
   "language": "python",
   "name": "python3"
  },
  "language_info": {
   "codemirror_mode": {
    "name": "ipython",
    "version": 3
   },
   "file_extension": ".py",
   "mimetype": "text/x-python",
   "name": "python",
   "nbconvert_exporter": "python",
   "pygments_lexer": "ipython3",
   "version": "3.11.9"
  }
 },
 "nbformat": 4,
 "nbformat_minor": 5
}
