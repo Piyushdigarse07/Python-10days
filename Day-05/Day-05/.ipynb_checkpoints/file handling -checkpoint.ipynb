{
 "cells": [
  {
   "cell_type": "code",
   "execution_count": null,
   "id": "cd3e54d4-6d4a-4e7f-bd4a-15ef40932b11",
   "metadata": {},
   "outputs": [],
   "source": [
    "#file handling"
   ]
  },
  {
   "cell_type": "code",
   "execution_count": null,
   "id": "cb5991ad-5d56-474e-9e24-9f3d46383e09",
   "metadata": {},
   "outputs": [],
   "source": [
    "#open(filename,mode)\n",
    "#modes are 4 type-r for read\n",
    "#a-append\n",
    "#w-write\n",
    "#x-create"
   ]
  },
  {
   "cell_type": "code",
   "execution_count": 3,
   "id": "b62431ac-3167-4ec0-a05d-3cdc6f642b91",
   "metadata": {},
   "outputs": [
    {
     "ename": "SyntaxError",
     "evalue": "invalid syntax (980712858.py, line 1)",
     "output_type": "error",
     "traceback": [
      "\u001b[1;36m  Cell \u001b[1;32mIn[3], line 1\u001b[1;36m\u001b[0m\n\u001b[1;33m    f=open(\"file.txt\",\"r\") to read a file\u001b[0m\n\u001b[1;37m                           ^\u001b[0m\n\u001b[1;31mSyntaxError\u001b[0m\u001b[1;31m:\u001b[0m invalid syntax\n"
     ]
    }
   ],
   "source": [
    "f=open(\"file.txt\",\"r\") to read a file\n",
    "print(f.read())"
   ]
  },
  {
   "cell_type": "code",
   "execution_count": 4,
   "id": "b4d34b51-5628-4566-a4df-fdd02144d700",
   "metadata": {},
   "outputs": [
    {
     "name": "stdout",
     "output_type": "stream",
     "text": [
      "<_io.TextIOWrapper name='play.txt' mode='r' encoding='cp1252'>\n"
     ]
    }
   ],
   "source": [
    "fi=open(\"play.txt\",\"r\")\n",
    "print(fi)"
   ]
  },
  {
   "cell_type": "code",
   "execution_count": 7,
   "id": "64c5089e-bfb1-4e9b-9672-f2aeff745bd3",
   "metadata": {},
   "outputs": [
    {
     "name": "stdout",
     "output_type": "stream",
     "text": [
      "\n"
     ]
    }
   ],
   "source": [
    "print(fi.read(5))"
   ]
  },
  {
   "cell_type": "code",
   "execution_count": null,
   "id": "521df89b-dc8e-46d9-9d0d-1dd94a5bc395",
   "metadata": {},
   "outputs": [],
   "source": []
  },
  {
   "cell_type": "code",
   "execution_count": null,
   "id": "de6e3516-cd91-4b55-896d-e8c0b0811007",
   "metadata": {},
   "outputs": [],
   "source": [
    "#\"rb\"- refers to read binary"
   ]
  },
  {
   "cell_type": "code",
   "execution_count": null,
   "id": "4c13d700-193c-4300-8283-506f2393d3d3",
   "metadata": {},
   "outputs": [],
   "source": [
    "#reseting the cursor position\n",
    "#seek(parameter)-according to parameter passed the cursoer will move\n",
    "#tell() -get the curretn cursor position "
   ]
  },
  {
   "cell_type": "code",
   "execution_count": null,
   "id": "78868cdb-1053-4947-a563-1c5a24fa8945",
   "metadata": {},
   "outputs": [],
   "source": [
    "#to delet file we need to import the os module\n",
    "#os.remove is used to delete file"
   ]
  },
  {
   "cell_type": "code",
   "execution_count": null,
   "id": "7b0749aa-fb06-466c-8c5e-478feabc6f74",
   "metadata": {},
   "outputs": [],
   "source": [
    "import os\n",
    "os.remove("
   ]
  }
 ],
 "metadata": {
  "kernelspec": {
   "display_name": "Python 3 (ipykernel)",
   "language": "python",
   "name": "python3"
  },
  "language_info": {
   "codemirror_mode": {
    "name": "ipython",
    "version": 3
   },
   "file_extension": ".py",
   "mimetype": "text/x-python",
   "name": "python",
   "nbconvert_exporter": "python",
   "pygments_lexer": "ipython3",
   "version": "3.11.9"
  }
 },
 "nbformat": 4,
 "nbformat_minor": 5
}
