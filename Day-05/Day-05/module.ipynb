{
 "cells": [
  {
   "cell_type": "code",
   "execution_count": null,
   "id": "733cc873-70aa-4a47-8b3e-f646c31bd196",
   "metadata": {},
   "outputs": [],
   "source": [
    "#what is module- a file containig set of functiom\n",
    "#collection of classes,function and variables\n",
    "#uses of module- is used for creating namespace\n",
    "#any.py file is considere as module"
   ]
  },
  {
   "cell_type": "code",
   "execution_count": 1,
   "id": "34ce482a-aa83-4384-a879-fed955611cec",
   "metadata": {},
   "outputs": [
    {
     "name": "stdout",
     "output_type": "stream",
     "text": [
      "12\n",
      "20\n"
     ]
    }
   ],
   "source": [
    "import hello\n",
    "print(hello.addnum(10,2))\n",
    "print(hello.mul(10,2))\n"
   ]
  },
  {
   "cell_type": "code",
   "execution_count": 1,
   "id": "6989d538-5222-4b67-9b87-7d122a660ebd",
   "metadata": {},
   "outputs": [
    {
     "name": "stdout",
     "output_type": "stream",
     "text": [
      "8\n"
     ]
    }
   ],
   "source": [
    "import hello\n",
    "print(hello.sub(10,2))"
   ]
  },
  {
   "cell_type": "code",
   "execution_count": 6,
   "id": "0904ae0d-bef3-4c2d-bf8c-91095d5582b8",
   "metadata": {
    "scrolled": true
   },
   "outputs": [
    {
     "name": "stdout",
     "output_type": "stream",
     "text": [
      "['C:\\\\Users\\\\Administrator\\\\AppData\\\\Local\\\\Programs\\\\Python\\\\Python311\\\\python311.zip', 'C:\\\\Users\\\\Administrator\\\\AppData\\\\Local\\\\Programs\\\\Python\\\\Python311\\\\DLLs', 'C:\\\\Users\\\\Administrator\\\\AppData\\\\Local\\\\Programs\\\\Python\\\\Python311\\\\Lib', 'C:\\\\Users\\\\Administrator\\\\AppData\\\\Local\\\\Programs\\\\Python\\\\Python311', '', 'C:\\\\Users\\\\Administrator\\\\AppData\\\\Local\\\\Programs\\\\Python\\\\Python311\\\\Lib\\\\site-packages', 'C:\\\\Users\\\\Administrator\\\\AppData\\\\Local\\\\Programs\\\\Python\\\\Python311\\\\Lib\\\\site-packages\\\\win32', 'C:\\\\Users\\\\Administrator\\\\AppData\\\\Local\\\\Programs\\\\Python\\\\Python311\\\\Lib\\\\site-packages\\\\win32\\\\lib', 'C:\\\\Users\\\\Administrator\\\\AppData\\\\Local\\\\Programs\\\\Python\\\\Python311\\\\Lib\\\\site-packages\\\\Pythonwin']\n"
     ]
    }
   ],
   "source": [
    "#module search path\n",
    "import sys\n",
    "print(sys.path)   #variable that returns module search path"
   ]
  },
  {
   "cell_type": "code",
   "execution_count": 2,
   "id": "8661cc77-7775-4139-a02f-f5294cce4381",
   "metadata": {},
   "outputs": [
    {
     "name": "stdout",
     "output_type": "stream",
     "text": [
      "10\n"
     ]
    }
   ],
   "source": [
    "import hello\n",
    "print(hello.mul(2,5))"
   ]
  },
  {
   "cell_type": "code",
   "execution_count": null,
   "id": "6bc57e6c-989d-433e-9038-55d391454406",
   "metadata": {},
   "outputs": [],
   "source": [
    "# add custom location to sys.path variable and the import the module\n",
    "#  \"sys.path.append\""
   ]
  },
  {
   "cell_type": "code",
   "execution_count": 3,
   "id": "c1afe0df-b1d0-4102-a01d-63fb788a5cf2",
   "metadata": {},
   "outputs": [
    {
     "name": "stdout",
     "output_type": "stream",
     "text": [
      "80\n"
     ]
    }
   ],
   "source": [
    "#second way to import\n",
    "from hello import addnum,mul,sub\n",
    "print(mul(10,8))\n"
   ]
  },
  {
   "cell_type": "code",
   "execution_count": null,
   "id": "c9b8f8b5-5966-498f-9de8-9cd8ff3310b3",
   "metadata": {},
   "outputs": [],
   "source": []
  },
  {
   "cell_type": "code",
   "execution_count": null,
   "id": "972e2c69-b6ee-4994-aad0-9ecffed76aa0",
   "metadata": {},
   "outputs": [],
   "source": []
  }
 ],
 "metadata": {
  "kernelspec": {
   "display_name": "Python 3 (ipykernel)",
   "language": "python",
   "name": "python3"
  },
  "language_info": {
   "codemirror_mode": {
    "name": "ipython",
    "version": 3
   },
   "file_extension": ".py",
   "mimetype": "text/x-python",
   "name": "python",
   "nbconvert_exporter": "python",
   "pygments_lexer": "ipython3",
   "version": "3.11.9"
  }
 },
 "nbformat": 4,
 "nbformat_minor": 5
}
